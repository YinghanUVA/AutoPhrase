{
 "cells": [
  {
   "cell_type": "code",
   "execution_count": 4,
   "metadata": {},
   "outputs": [
    {
     "name": "stdout",
     "output_type": "stream",
     "text": [
      "True\n"
     ]
    }
   ],
   "source": [
    "import json\n",
    "import os\n",
    "import tqdm\n",
    "\n",
    "dataset_names = ['inspec', 'krapivin', 'nus', 'semeval', 'kp20k']\n",
    "\n",
    "data_path = \"/zf18/yw9fm/KPG_Project/data\"\n",
    "\n",
    "for\n",
    "inspec_train_path = os.path.join(data_path,'inspec','inspec_valid.json')\n",
    "print(os.path.exists(inspec_train_path))\n",
    "train_data = [json.loads(line) for line in open(inspec_train_path, 'r')]\n",
    "inspec_test_path = os.path.join(data_path,'inspec','inspec_test.json')\n",
    "test_data = [json.loads(line) for line in open(inspec_test_path, 'r')]"
   ]
  },
  {
   "cell_type": "code",
   "execution_count": 5,
   "metadata": {},
   "outputs": [
    {
     "name": "stdout",
     "output_type": "stream",
     "text": [
      "(1500, 500)\n"
     ]
    },
    {
     "data": {
      "text/plain": [
       "{u'abstract': u'New entrants are shaking up the separate-account industry by supplying Web-based platforms that give advisers the tools to pick independent money managers',\n",
       " u'fulltext': u'',\n",
       " u'keywords': u'separate-account industry;web-based platforms;investment;financial advisors;independent money managers',\n",
       " u'name': u'train_100',\n",
       " u'title': u'Separate accounts go mainstream [investment]'}"
      ]
     },
     "execution_count": 5,
     "metadata": {},
     "output_type": "execute_result"
    }
   ],
   "source": [
    "print(len(train_data),len(test_data))\n",
    "train_data[0]"
   ]
  },
  {
   "cell_type": "code",
   "execution_count": 6,
   "metadata": {},
   "outputs": [],
   "source": [
    "# write test data to a new .txt file\n",
    "target_txt_path = \"../data/EN/inspec.test.txt\"\n",
    "with open(target_txt_path,'w+') as f:\n",
    "    for data in test_data:\n",
    "        abstract = data['abstract']\n",
    "        title = data['title']\n",
    "        art = '\\n'.join((title,abstract)).encode('utf-8').strip()\n",
    "        f.write(art + '\\n')"
   ]
  },
  {
   "cell_type": "code",
   "execution_count": 7,
   "metadata": {},
   "outputs": [],
   "source": [
    "# write training data to a new .txt file\n",
    "target_txt_path = \"../data/EN/inspec.train.txt\"\n",
    "with open(target_txt_path,'w') as f:\n",
    "    for data in train_data:\n",
    "        abstract = data['abstract']\n",
    "        title = data['title']\n",
    "        art = '\\n'.join((title,abstract)).encode('utf-8').strip()\n",
    "        f.write(art + '\\n')"
   ]
  },
  {
   "cell_type": "code",
   "execution_count": 9,
   "metadata": {},
   "outputs": [],
   "source": [
    "# update wiki_quality.txt with key phrases in training set\n",
    "wiki_path = \"../data/EN/wiki_quality.txt\"\n",
    "key_set = set()\n",
    "for data in train_data:\n",
    "    for k in data['keywords']:\n",
    "        if not k in key_set:\n",
    "            key_set.add(k)\n",
    "with open(wiki_path,'a') as f:\n",
    "    f.write('\\n'.join(list(key_set)))"
   ]
  },
  {
   "cell_type": "code",
   "execution_count": 8,
   "metadata": {},
   "outputs": [],
   "source": [
    "dec_dir = '/zf18/yw9fm/KPG_Project/log/inspec/decode_model_500000_1587513120'\n",
    "gen_dir = os.path.join(dec_dir,'rouge_dec_dir')\n",
    "ref_dir = os.path.join(dec_dir,'rouge_ref')\n",
    "gen = os.listdir(gen_dir)\n",
    "ref = os.listdir(ref_dir)\n",
    "gen = sorted(gen)\n",
    "ref = sorted(ref)"
   ]
  },
  {
   "cell_type": "code",
   "execution_count": 10,
   "metadata": {},
   "outputs": [],
   "source": [
    "# write test data and summary to a new .txt file\n",
    "target_txt_path = \"../data/EN/inspec.test.aug.txt\"\n",
    "with open(target_txt_path,'w+') as f_in:\n",
    "    for idx, data in enumerate(test_data):\n",
    "        with open(os.path.join(gen_dir,gen[idx]),'r') as f_out:\n",
    "            tmp_sum = f_out.readlines()\n",
    "        summ = ' '.join([tmp.strip() for tmp in tmp_sum])\n",
    "        abstract = data['abstract']\n",
    "        title = data['title']\n",
    "        art = '\\n'.join((title, summ, abstract)).encode('utf-8').strip()\n",
    "#         art = ' '.join((title, abstract)).encode('utf-8').strip()\n",
    "        f_in.write(art + '\\n')"
   ]
  },
  {
   "cell_type": "code",
   "execution_count": 11,
   "metadata": {},
   "outputs": [
    {
     "data": {
      "text/plain": [
       "u'formal system representation;functional flow-type objects;formalized nfo/ufo analysis algorithm;systemological analysis;case tools;object-oriented design;axiomatics;complex systems design'"
      ]
     },
     "execution_count": 11,
     "metadata": {},
     "output_type": "execute_result"
    }
   ],
   "source": [
    "test_data[1]['keywords']"
   ]
  },
  {
   "cell_type": "code",
   "execution_count": 12,
   "metadata": {},
   "outputs": [],
   "source": [
    "# seperate absent and present groundtruth\n",
    "absent = []\n",
    "present = []\n",
    "for data in test_data:\n",
    "    abstract = data['abstract'].encode('utf-8').lower()\n",
    "    title = data['title'].encode('utf-8').lower()\n",
    "    text = ' '.join((abstract,title))\n",
    "    keywords = data['keywords'].encode('utf-8').lower().strip().split(';')\n",
    "    tmp_ab = []\n",
    "    tmp_pr = []\n",
    "    for k in keywords:\n",
    "        if k in text:\n",
    "            tmp_pr.append(k)\n",
    "        else:\n",
    "            tmp_ab.append(k)\n",
    "    absent.append(tmp_ab)\n",
    "    present.append(tmp_pr)"
   ]
  },
  {
   "cell_type": "code",
   "execution_count": 15,
   "metadata": {},
   "outputs": [
    {
     "data": {
      "text/plain": [
       "['out-of-print materials', 'recurring issues', 'changing practices']"
      ]
     },
     "execution_count": 15,
     "metadata": {},
     "output_type": "execute_result"
    }
   ],
   "source": [
    "present[0]"
   ]
  },
  {
   "cell_type": "code",
   "execution_count": 14,
   "metadata": {},
   "outputs": [
    {
     "data": {
      "text/plain": [
       "{u'abstract': u'This article reviews the last two-and-a-half decades of literature on acquiring out-of-print materials to assess recurring issues and identify changing practices. The out-of-print literature is uniform in its assertion that libraries need to acquire o.p. materials to replace worn or damaged copies, to replace missing copies, to duplicate copies of heavily used materials, to fill gaps in collections, to strengthen weak collections, to continue to develop strong collections, and to provide materials for new courses, new programs, and even entire new libraries',\n",
       " u'fulltext': u'',\n",
       " u'keywords': u'out-of-print materials;acquisition;out-of-print books;recurring issues;changing practices;library materials',\n",
       " u'name': u'test_193',\n",
       " u'title': u'Twenty years of the literature on acquiring out-of-print materials'}"
      ]
     },
     "execution_count": 14,
     "metadata": {},
     "output_type": "execute_result"
    }
   ],
   "source": [
    "test_data[0]"
   ]
  },
  {
   "cell_type": "code",
   "execution_count": null,
   "metadata": {},
   "outputs": [],
   "source": [
    "# # extract phrase and evaluate coverage\n",
    "# import re\n",
    "\n",
    "# seg_path = \"../models/kp20k_train/segmentation.txt\"\n",
    "# with open(seg_path,'r') as f:\n",
    "#     lines = [line.rstrip() for line in f]\n",
    "\n",
    "# ans = []\n",
    "# for line in lines:\n",
    "#     m = re.findall('<phrase>(.+?)</phrase>', line)\n",
    "#     ans.append([a.lower() for a in m])\n",
    "# coverage_result = []\n",
    "# for an,data in zip(ans,test_data):\n",
    "#     keywords = data['keywords'].encode('utf-8').strip().split(';')\n",
    "#     tmp_result = 0\n",
    "#     for keyword in keywords:\n",
    "#         if keyword in an:\n",
    "#             tmp_result += 1.0\n",
    "#     coverage_result.append(tmp_result/len(keywords))\n",
    "\n",
    "# sum(coverage_result)/len(coverage_result)"
   ]
  },
  {
   "cell_type": "code",
   "execution_count": 16,
   "metadata": {},
   "outputs": [],
   "source": [
    "# this part should be processed after autophrase.sh and phrasal_segmentation.sh\n",
    "\n",
    "# extract ranking score\n",
    "m_weight = {}\n",
    "s_weight = {}\n",
    "a_weight = {}\n",
    "multi_path = \"../models/inspec_train/AutoPhrase_multi-words.txt\"\n",
    "single_path = \"../models/inspec_train/AutoPhrase_single-word.txt\"\n",
    "auto_path = \"../models/inspec_train/AutoPhrase.txt\"\n",
    "with open(multi_path, 'r') as m:\n",
    "    lines = [line.lower().rstrip().split('\\t') for line in m]\n",
    "for score,key in lines:\n",
    "    m_weight[key] = float(score)\n",
    "with open(single_path, 'r') as s:\n",
    "    lines = [line.lower().rstrip().split('\\t') for line in s]\n",
    "for score,key in lines:\n",
    "    s_weight[key] = float(score)\n",
    "    \n",
    "with open(auto_path, 'r') as s:\n",
    "    lines = [line.lower().rstrip().split('\\t') for line in s]\n",
    "for score,key in lines:\n",
    "    a_weight[key] = float(score)"
   ]
  },
  {
   "cell_type": "code",
   "execution_count": 18,
   "metadata": {},
   "outputs": [
    {
     "data": {
      "text/plain": [
       "{'differential equations': 0.9604531554,\n",
       " 'aided': 0.7406134003,\n",
       " 'positions': 0.4235579055,\n",
       " 'the advantages': 0.1635317237,\n",
       " 'radiologists': 0.5269691984,\n",
       " 'comparison with': 0.119120947,\n",
       " 'similarity': 0.8121768815,\n",
       " 'the second': 0.2487119379,\n",
       " 'magnetic': 0.7603556567,\n",
       " 'both': 0.2101883127,\n",
       " 'dynamic': 0.7590688385,\n",
       " 'a hybrid': 0.1972142628,\n",
       " 'four': 0.4145277477,\n",
       " 'facilities': 0.800350271,\n",
       " 'data sets': 0.9717612703,\n",
       " 'goal of': 0.0389330217,\n",
       " 'entropy': 0.8046435081,\n",
       " 'point of view': 0.8281229104,\n",
       " 'system design': 0.6357453588,\n",
       " 'consists': 0.7679410469,\n",
       " 'the difference': 0.1335273847,\n",
       " 'content management': 0.9831609334,\n",
       " 'payoff': 0.786221493,\n",
       " 'relationships': 0.7197659081,\n",
       " 'looking': 0.4462869916,\n",
       " 'calculate': 0.4397346838,\n",
       " 'segments': 0.6507317302,\n",
       " 'characterization of': 0.1189664559,\n",
       " 'presents': 0.7576903407,\n",
       " 'a fuzzy': 0.1946116558,\n",
       " 'results from': 0.1361987331,\n",
       " 'under': 0.2197240278,\n",
       " 'teaching': 0.804501146,\n",
       " 'the production': 0.1285079999,\n",
       " 'the most': 0.2391862497,\n",
       " 'an efficient': 0.1386272393,\n",
       " 'doctorates': 0.5304393806,\n",
       " 'conjecture': 0.4683394618,\n",
       " 'risk': 0.8010550724,\n",
       " 'to address': 0.1125738059,\n",
       " 'activation': 0.7902791637,\n",
       " 'rise': 0.7469747519,\n",
       " 'to analyze': 0.1362536481,\n",
       " 'results suggest': 0.8921016151,\n",
       " 'replication': 0.7986460795,\n",
       " 'treatment of': 0.0539964903,\n",
       " 'every': 0.2416060989,\n",
       " 'an application': 0.1697260172,\n",
       " 'steady state': 0.9833008669,\n",
       " 'performance fortran': 0.7639433297,\n",
       " 'school': 0.8017850803,\n",
       " 'the real': 0.2498444943,\n",
       " 'skills': 0.7842062302,\n",
       " 'supports': 0.3865936128,\n",
       " 'companies': 0.7317586663,\n",
       " 'solution': 0.7651515866,\n",
       " 'an algorithm': 0.2466189696,\n",
       " 'vector': 0.7894367982,\n",
       " 'affect': 0.4463875762,\n",
       " 'indices': 0.7676445321,\n",
       " 'enhance': 0.4084232685,\n",
       " 'markov': 0.7666525993,\n",
       " 'for such': 0.1127399021,\n",
       " 'result of': 0.060355858,\n",
       " 'force': 0.7675036748,\n",
       " 'a class': 0.262596586,\n",
       " 'consistent': 0.6069922619,\n",
       " 'estimates': 0.7970841886,\n",
       " 'shared memory': 0.9752745038,\n",
       " 'pulse': 0.800297849,\n",
       " 'batch': 0.8118724084,\n",
       " 'approximation': 0.7969825196,\n",
       " 'likely': 0.4914796557,\n",
       " 'model checking': 0.9763127484,\n",
       " 'view of': 0.0645677931,\n",
       " 'estimated': 0.3971843899,\n",
       " 'an experimental': 0.1913456116,\n",
       " 'machines': 0.7792016245,\n",
       " 'even': 0.2237985775,\n",
       " 'established': 0.363224592,\n",
       " 'errors': 0.8033534449,\n",
       " 'specification': 0.790957363,\n",
       " 'workflow': 0.7896903184,\n",
       " 'the desired': 0.1421672262,\n",
       " 'depends on': 0.4106826721,\n",
       " 'children': 0.748345899,\n",
       " 'to model': 0.3336101053,\n",
       " 'hl7': 0.5452649243,\n",
       " 'reconstruction': 0.7734179644,\n",
       " 'designing': 0.4142531406,\n",
       " 'supplier': 0.7651171897,\n",
       " 'new': 0.4164363094,\n",
       " 'net': 0.7907875529,\n",
       " 'increasing': 0.3728297245,\n",
       " 'ever': 0.270716855,\n",
       " 'compilers': 0.7797294707,\n",
       " 'coefficient': 0.7900022567,\n",
       " 'evolving': 0.7376142605,\n",
       " 'simultaneously': 0.4258674726,\n",
       " 'evaluating': 0.4352286049,\n",
       " 'a certain': 0.150951089,\n",
       " 'whose': 0.2405518226,\n",
       " 'in many': 0.1703401841,\n",
       " 'a large number of': 0.1506204933,\n",
       " 'here': 0.2201551236,\n",
       " 'atoms': 0.4975367049,\n",
       " 'met': 0.4547738106,\n",
       " 'protection': 0.7925177496,\n",
       " 'state of': 0.0646994879,\n",
       " 'to compute': 0.1827224577,\n",
       " 'designed to': 0.0868547062,\n",
       " 'active': 0.7834131179,\n",
       " 'path': 0.8054685785,\n",
       " '100': 0.2842997515,\n",
       " 'quite': 0.2917504948,\n",
       " 'information technology': 0.9556520466,\n",
       " 'obtained': 0.6472257682,\n",
       " 'compared to': 0.210158305,\n",
       " 'voice': 0.7885661787,\n",
       " 'high level': 0.9628029278,\n",
       " 'items': 0.4663542882,\n",
       " 'feasibility': 0.7642940502,\n",
       " 'changed': 0.4344025897,\n",
       " 'approaches': 0.5496596912,\n",
       " 'reports': 0.6770289149,\n",
       " 'to meet': 0.1455832408,\n",
       " 'sup 18': 0.5778046045,\n",
       " 'behavior of': 0.1234166843,\n",
       " 'complicated': 0.4448378694,\n",
       " 'fourier': 0.7988734668,\n",
       " 'changes': 0.4523173543,\n",
       " 'changes in': 0.087741662,\n",
       " 'a dynamic': 0.2387412411,\n",
       " 'diameter': 0.4777637778,\n",
       " 'secure': 0.8177910074,\n",
       " 'classification': 0.7865942702,\n",
       " 'discontinuous': 0.8003644462,\n",
       " 'evolution of': 0.0296102929,\n",
       " 'replace': 0.4344025897,\n",
       " 'visible': 0.6902615559,\n",
       " 'a model of': 0.1104997268,\n",
       " 'parts of': 0.0700473588,\n",
       " 'actions': 0.4140999216,\n",
       " 'total': 0.772866725,\n",
       " 'unit': 0.7685141594,\n",
       " 'would': 0.2264230462,\n",
       " 'hospital': 0.7497677935,\n",
       " 'negative': 0.7566631409,\n",
       " 'or =': 0.2705922578,\n",
       " 'a distributed': 0.2236893604,\n",
       " 'overhead': 0.7679599659,\n",
       " 'therefore': 0.2308622553,\n",
       " 'the method': 0.2983050754,\n",
       " 'spike': 0.7953525719,\n",
       " 'characteristics of': 0.1193918973,\n",
       " 'type': 0.7077581796,\n",
       " 'a brief': 0.0968445018,\n",
       " 'of different': 0.1446842279,\n",
       " 'vpp': 0.5458702556,\n",
       " 'relay': 0.7750159509,\n",
       " 'composite': 0.7761725214,\n",
       " 'more efficient': 0.3852881887,\n",
       " 'phone': 0.7864393761,\n",
       " 'of information': 0.2263506082,\n",
       " 'size of': 0.095846631,\n",
       " 'excellent': 0.4447423976,\n",
       " 'the application of': 0.0859934668,\n",
       " '90': 0.2982508195,\n",
       " 'hold': 0.4174467896,\n",
       " 'the continuous': 0.2112542609,\n",
       " 'blocking': 0.7886058392,\n",
       " 'must': 0.2162869385,\n",
       " 'detection of': 0.177485657,\n",
       " 'erp': 0.7938921831,\n",
       " 'room': 0.8044109416,\n",
       " 'mc': 0.7920109884,\n",
       " 'cellular automata': 0.9816926549,\n",
       " 'mm': 0.7778796707,\n",
       " '1998': 0.2919940885,\n",
       " 'work': 0.4118757565,\n",
       " 'impact on': 0.2673383391,\n",
       " 'theories': 0.7824596825,\n",
       " 'mu': 0.8172107367,\n",
       " 'itself': 0.2405157323,\n",
       " 'a digital': 0.1961560696,\n",
       " 'ms': 0.7366306199,\n",
       " 'mr': 0.8026483189,\n",
       " 'already': 0.2579606758,\n",
       " 'root': 0.7946842852,\n",
       " 'example': 0.4850689311,\n",
       " 'optimization of': 0.0704926972,\n",
       " 'problem for': 0.0737345364,\n",
       " 'indicated': 0.2812724854,\n",
       " 'give': 0.3947633248,\n",
       " 'programming': 0.7813092631,\n",
       " 'organized': 0.753224999,\n",
       " 'implementations': 0.7213090792,\n",
       " 'motivated': 0.4637262579,\n",
       " 'a very': 0.1627419221,\n",
       " 'to minimize': 0.1680881429,\n",
       " 'want': 0.544585266,\n",
       " 'scheduling': 0.7791911137,\n",
       " 'the learning': 0.1503960327,\n",
       " 'times': 0.7030166907,\n",
       " 'of data': 0.236134577,\n",
       " 'guarantee': 0.4344025897,\n",
       " 'end': 0.7931221979,\n",
       " 'recovery': 0.8158779744,\n",
       " 'analysis of': 0.1203891547,\n",
       " 'carriers': 0.4824584549,\n",
       " 'provide': 0.6526661654,\n",
       " 'verify': 0.4344025897,\n",
       " 'feature': 0.7874719663,\n",
       " 'non linear': 0.84865537,\n",
       " 'machine': 0.7748274966,\n",
       " 'far': 0.3372199074,\n",
       " 'methodology': 0.7608556558,\n",
       " 'degrees of freedom': 0.9460066371,\n",
       " 'answer': 0.7373695272,\n",
       " 'ordinary': 0.7969058327,\n",
       " 'the development of': 0.1585833711,\n",
       " 'classify': 0.4450146103,\n",
       " 'regional': 0.7394592254,\n",
       " 'description': 0.7843664666,\n",
       " 'manuals': 0.5171521991,\n",
       " 'earlier': 0.4592276487,\n",
       " 'a general': 0.1976153652,\n",
       " 'hence': 0.2509345862,\n",
       " 'mesh': 0.7914880436,\n",
       " 'the effectiveness': 0.1347275491,\n",
       " 'a framework for': 0.0661038241,\n",
       " 'law': 0.7900694687,\n",
       " 'parallel': 0.7641832758,\n",
       " 'types': 0.8049663499,\n",
       " 'specialization': 0.5126118175,\n",
       " 'attempt': 0.7641173295,\n",
       " 'effective': 0.7311096979,\n",
       " 'complexity': 0.7855114309,\n",
       " 'maintain': 0.4142206079,\n",
       " 'algorithms': 0.7059424942,\n",
       " 'correlation': 0.8145076102,\n",
       " 'adoption of': 0.1327784159,\n",
       " 'differences in': 0.2050817148,\n",
       " 'order': 0.7441619209,\n",
       " 'wind': 0.7794617706,\n",
       " 'l sub 2': 0.4939177381,\n",
       " 'operations': 0.727011893,\n",
       " 'of linear': 0.2601649476,\n",
       " 'interpretation': 0.7980981828,\n",
       " 'feedback': 0.7517700755,\n",
       " 'office': 0.7379922743,\n",
       " 'new method': 0.3540300795,\n",
       " 'telecom': 0.4489350945,\n",
       " 'an agent': 0.3499332426,\n",
       " 'the relationship': 0.1309571661,\n",
       " 'possibility of': 0.1307781973,\n",
       " 'women in': 0.1043088961,\n",
       " 'features of': 0.1052343918,\n",
       " 'thesis': 0.4817151789,\n",
       " 'innovative': 0.7545528972,\n",
       " 'system for': 0.1789369683,\n",
       " 'fidelity': 0.7867122678,\n",
       " 'nets': 0.7987219672,\n",
       " 'the rate of': 0.0869168737,\n",
       " 'before': 0.2290501852,\n",
       " 'fir': 0.7675426447,\n",
       " 'a simulation': 0.2656816389,\n",
       " 'monotonicity': 0.7912654945,\n",
       " 'fit': 0.7925515995,\n",
       " 'personal': 0.8161456031,\n",
       " 'large number of': 0.6681413336,\n",
       " 'the form of': 0.0557203496,\n",
       " 'crew': 0.7933577187,\n",
       " 'better': 0.3536413338,\n",
       " 'production': 0.7927953986,\n",
       " 'hidden': 0.712572555,\n",
       " 'overcome': 0.7779592966,\n",
       " 'maximal': 0.7358584389,\n",
       " 'then': 0.3124757545,\n",
       " 'least squares': 0.923098029,\n",
       " 'combination': 0.7828211728,\n",
       " 'to do': 0.1315606406,\n",
       " 'safe': 0.7373695272,\n",
       " 'the effectiveness of': 0.1295987671,\n",
       " 'elementary': 0.7903829227,\n",
       " 'the case of': 0.1258989554,\n",
       " 'band': 0.7935841526,\n",
       " 'therapy': 0.8095337834,\n",
       " 'effects': 0.7827017745,\n",
       " 'they': 0.2115360949,\n",
       " 'one': 0.309346201,\n",
       " 'structural': 0.8057814506,\n",
       " 'represents': 0.4344025897,\n",
       " 'rely on': 0.3994337519,\n",
       " 'principles of': 0.1699633088,\n",
       " 'approach to': 0.157615971,\n",
       " 'a fixed': 0.1255394891,\n",
       " 'this case': 0.3412554601,\n",
       " 'classified': 0.4495123409,\n",
       " 'the maximum': 0.4763972419,\n",
       " 'l': 0.4475972014,\n",
       " 'ventilation': 0.4982264947,\n",
       " 'an important': 0.1892700445,\n",
       " 'reasonable': 0.4354102596,\n",
       " 'each': 0.2974478703,\n",
       " 'higher': 0.6658328411,\n",
       " 'side': 0.5571822451,\n",
       " 'mean': 0.5101655394,\n",
       " 'to take': 0.0625330239,\n",
       " 'schemes': 0.6717944336,\n",
       " 'financial': 0.8172921212,\n",
       " 'study of': 0.089946512,\n",
       " 'series': 0.773919381,\n",
       " 'the distribution of': 0.0570392015,\n",
       " 'principles': 0.7812214763,\n",
       " 'the network': 0.285679841,\n",
       " 'attenuation': 0.796284658,\n",
       " 'combining': 0.7310245754,\n",
       " 'aids': 0.7949208162,\n",
       " 'extract': 0.7237501235,\n",
       " 'ring': 0.7943670667,\n",
       " 'capable of': 0.2606111671,\n",
       " 'network': 0.7481004844,\n",
       " 'driving': 0.8026114781,\n",
       " 'gradient': 0.7689555894,\n",
       " 'proposed method': 0.7940074718,\n",
       " 'particles': 0.7552661609,\n",
       " 're': 0.4491565209,\n",
       " 'dsl': 0.5425226416,\n",
       " 'safety': 0.8131939643,\n",
       " 'to reduce': 0.1591953818,\n",
       " 'assignment': 0.8110195801,\n",
       " 'sliding': 0.745755795,\n",
       " 'sma': 0.7700163136,\n",
       " 'linear systems': 0.9560525701,\n",
       " 'foundation': 0.8008784434,\n",
       " 'trajectories': 0.6818129919,\n",
       " 'turning': 0.808125343,\n",
       " 'linear': 0.7380850111,\n",
       " 'of electronic': 0.2176607115,\n",
       " 'the solution': 0.1692045205,\n",
       " '+ +': 0.2755129999,\n",
       " 'little': 0.2530183201,\n",
       " 'free': 0.7969659895,\n",
       " 'standard': 0.7540966241,\n",
       " '+ 1': 0.4106998695,\n",
       " '+ or': 0.285307262,\n",
       " 'allocation': 0.7490327159,\n",
       " 'does not': 0.2157696201,\n",
       " 'sensors': 0.788204217,\n",
       " 'set of': 0.1658648145,\n",
       " 'created': 0.373649219,\n",
       " 'correctness': 0.7402576368,\n",
       " 'to find': 0.0842904307,\n",
       " 'silicon': 0.8133572112,\n",
       " 'machining': 0.8316113882,\n",
       " \"today's\": 0.44108963,\n",
       " 'uses': 0.2146085959,\n",
       " 'to design': 0.258936365,\n",
       " 'user': 0.795008626,\n",
       " '200': 0.2982508195,\n",
       " 'industrial': 0.7864968845,\n",
       " 'features': 0.6997114052,\n",
       " 'method for': 0.1101280363,\n",
       " 'coding': 0.8122802294,\n",
       " 'primary': 0.7382766577,\n",
       " 'rank': 0.7884015081,\n",
       " 'channels': 0.8087230838,\n",
       " 'paper describes': 0.8399279977,\n",
       " 'adopted': 0.3767583861,\n",
       " 'another': 0.2325815705,\n",
       " 'based control': 0.5773231775,\n",
       " 'electronic': 0.7974052073,\n",
       " 'illustrate': 0.7615904528,\n",
       " 'environment for': 0.06430503,\n",
       " 'one dimensional': 0.8881010817,\n",
       " 'this research': 0.2062984088,\n",
       " 'service': 0.7468445183,\n",
       " 'feasibility of': 0.0457135208,\n",
       " 'top': 0.4494368547,\n",
       " 'girls': 0.752647516,\n",
       " 'approximately': 0.4269060255,\n",
       " 'needed': 0.6493419751,\n",
       " 'zeros': 0.7943670667,\n",
       " 'observations': 0.7902493094,\n",
       " 'such as': 0.1516078142,\n",
       " 'offer': 0.3993301357,\n",
       " 'version of': 0.0929181879,\n",
       " 'important for': 0.1410774589,\n",
       " 'numerical solution of': 0.6058542621,\n",
       " 'the existence of': 0.1008272587,\n",
       " 'urban': 0.7946310367,\n",
       " 'in terms of': 0.2618748182,\n",
       " 'property of': 0.0754026796,\n",
       " 'centered': 0.7219294987,\n",
       " 'tool': 0.7418147821,\n",
       " 'typing': 0.5269691984,\n",
       " 'serve': 0.4397346838,\n",
       " 'the initial': 0.1620284511,\n",
       " 'direct': 0.8105059478,\n",
       " 'reconstruction of': 0.0513268763,\n",
       " 'task': 0.7315365541,\n",
       " 'to describe': 0.0611692419,\n",
       " 'definition of': 0.1333557565,\n",
       " 'distance': 0.7779360073,\n",
       " 'boundary value problems': 0.9621604102,\n",
       " 'target': 0.7822559,\n",
       " 'showed': 0.4034144853,\n",
       " 'approximations': 0.7828529397,\n",
       " 'h sub': 0.4248910624,\n",
       " 'iteration': 0.8035729314,\n",
       " 'second': 0.4699642359,\n",
       " 'project': 0.7489236042,\n",
       " 'classes': 0.8088007316,\n",
       " 'contribution': 0.4344025897,\n",
       " 'enables': 0.3993301357,\n",
       " 'acquisition': 0.7808161782,\n",
       " 'perspective': 0.6616187582,\n",
       " 'the single': 0.2439466055,\n",
       " 'modern': 0.683908459,\n",
       " 'torque': 0.7962402275,\n",
       " 'spectrum': 0.8057231478,\n",
       " 'manner': 0.4142206079,\n",
       " 'seen': 0.2794164905,\n",
       " 'contents': 0.7241724309,\n",
       " 'ray': 0.7903866167,\n",
       " 'problem in': 0.0672319347,\n",
       " 'functioning': 0.4251928167,\n",
       " 'latter': 0.50223542,\n",
       " 'a quantum': 0.1439995368,\n",
       " 'images of': 0.0703841079,\n",
       " 'equivalent to': 0.1040878162,\n",
       " 'oriented': 0.7838605008,\n",
       " 'chest': 0.791612952,\n",
       " 'practices': 0.7998704729,\n",
       " 'forces': 0.7992911493,\n",
       " 'effectiveness': 0.7294404289,\n",
       " 'high speed': 0.97332272,\n",
       " 'information about': 0.5306489615,\n",
       " 'though': 0.2994490598,\n",
       " 'want to': 0.2115531554,\n",
       " 'object': 0.8016316513,\n",
       " 'a novel': 0.1145434135,\n",
       " 'extending': 0.4688618975,\n",
       " 'optimized': 0.4235579055,\n",
       " 'regular': 0.7396587417,\n",
       " 'letter': 0.4985342051,\n",
       " 'phase': 0.7998272801,\n",
       " 'the implementation of': 0.0652315716,\n",
       " 'rule set': 0.9240170697,\n",
       " 'to approximate': 0.108480444,\n",
       " 'the business': 0.2868994035,\n",
       " 'medical': 0.8185757873,\n",
       " 'partition': 0.7339677316,\n",
       " 'flow': 0.8027624435,\n",
       " 'to deal with': 0.1413731845,\n",
       " 'points': 0.7376070836,\n",
       " 'a means': 0.230426359,\n",
       " 'principle': 0.7741105339,\n",
       " 'increase in': 0.1103942987,\n",
       " 'enterprise': 0.7879949299,\n",
       " 'consumer': 0.8144559548,\n",
       " 'section': 0.7978054692,\n",
       " 'incomplete': 0.7818910098,\n",
       " 'caused by': 0.4190533135,\n",
       " 'relative to': 0.0692749367,\n",
       " 'heuristics': 0.7937939212,\n",
       " 'supply chain': 0.9866052681,\n",
       " 'selected': 0.4082661256,\n",
       " 'reductions': 0.4522318586,\n",
       " 'random': 0.8057251893,\n",
       " 'component of': 0.0679565997,\n",
       " 'ability of': 0.0465455672,\n",
       " 'the future': 0.4530766535,\n",
       " 'solutions': 0.7559885743,\n",
       " 'availability': 0.7919998831,\n",
       " 'finally': 0.3794813887,\n",
       " 'just': 0.4062211296,\n",
       " 'implementation': 0.7727913031,\n",
       " 'situations': 0.4142206079,\n",
       " 'delays': 0.8021824287,\n",
       " 'the ability': 0.1836732738,\n",
       " 'such': 0.4009127957,\n",
       " 'the numerical solution': 0.4690943927,\n",
       " 'case study': 0.9369705744,\n",
       " 'coefficients': 0.6982480564,\n",
       " 'integrate': 0.7734554371,\n",
       " 'developed to': 0.1765727404,\n",
       " 'importance of': 0.0375255199,\n",
       " 'continuity': 0.4809638938,\n",
       " 'do': 0.461606402,\n",
       " 'system of': 0.2663019658,\n",
       " 'mixture': 0.7930796742,\n",
       " 'above': 0.281915996,\n",
       " 'wide': 0.7816333392,\n",
       " 'scientists': 0.4620975397,\n",
       " 'scalable': 0.8063009519,\n",
       " 'the framework of': 0.0761049332,\n",
       " 'a variety of': 0.0784259474,\n",
       " 'reversal': 0.7822832259,\n",
       " 'despite': 0.2860322274,\n",
       " 'report': 0.6424682355,\n",
       " 'of computing': 0.2192234079,\n",
       " 'the problem': 0.2865877063,\n",
       " 'ds': 0.5524760772,\n",
       " 'runs': 0.7262301873,\n",
       " 'response to': 0.1130490572,\n",
       " 'countries': 0.7627092453,\n",
       " 'at least': 0.2977040497,\n",
       " 'fields': 0.7104972431,\n",
       " 'properties of': 0.16215747,\n",
       " 'the architecture': 0.1913654717,\n",
       " 'method': 0.7038752323,\n",
       " 'in detail': 0.1108083592,\n",
       " 'two different': 0.1446104984,\n",
       " 'architecture': 0.7724936286,\n",
       " 'a knowledge': 0.1842095546,\n",
       " 'analytical': 0.7970796825,\n",
       " 'the right': 0.1415703924,\n",
       " 'automatic': 0.8077754859,\n",
       " 'the question': 0.1751020534,\n",
       " 'family of': 0.0487902722,\n",
       " 'issue of': 0.0738372496,\n",
       " 'reference': 0.780675446,\n",
       " 'a three dimensional': 0.3843744314,\n",
       " 'sensitivity': 0.8052438016,\n",
       " 'testing': 0.8036170753,\n",
       " 'of nonlinear': 0.2172210249,\n",
       " 'sets of': 0.0732258588,\n",
       " 'detection': 0.7644095433,\n",
       " 'run time': 0.8765385767,\n",
       " 'radius': 0.7564456086,\n",
       " 'projections': 0.7995553765,\n",
       " 'of such systems': 0.2995526477,\n",
       " 'an exact': 0.2166962199,\n",
       " 'with respect': 0.1710216817,\n",
       " 'optimum': 0.8040094268,\n",
       " 'best': 0.4998508012,\n",
       " 'subject': 0.7912534842,\n",
       " 'cost of': 0.0453544546,\n",
       " 'capacity': 0.7887724458,\n",
       " 'the probability': 0.1030748964,\n",
       " 'attempt to': 0.3616597472,\n",
       " 'the present': 0.3688877185,\n",
       " 'representation of': 0.0892427084,\n",
       " 'patients': 0.8018236637,\n",
       " 'artificial': 0.7461188243,\n",
       " 'solution to': 0.0466331972,\n",
       " 'symmetric': 0.7944013864,\n",
       " 'r': 0.3497250303,\n",
       " 'conceptual': 0.7799205429,\n",
       " 'previous': 0.3767713462,\n",
       " 'tolerance': 0.7949071858,\n",
       " 'preserve': 0.4587605389,\n",
       " 'a given': 0.2216767475,\n",
       " 'we': 0.2085268324,\n",
       " 'terms': 0.7750402793,\n",
       " 'extend': 0.7737348971,\n",
       " 'nature': 0.7985476629,\n",
       " 'weak': 0.7760111967,\n",
       " 'however': 0.2185184264,\n",
       " 'a system': 0.1332976747,\n",
       " 'cut': 0.7957599835,\n",
       " 'of research': 0.2885641995,\n",
       " 'extent': 0.4182219337,\n",
       " 'news': 0.805867854,\n",
       " 'together with': 0.1210381262,\n",
       " 'the four': 0.1310481481,\n",
       " 'topology': 0.7987272141,\n",
       " 'suggested': 0.3978377432,\n",
       " 'received': 0.4145072765,\n",
       " 'essentially': 0.7265396402,\n",
       " 'a user': 0.1888327869,\n",
       " 'reported': 0.4032573425,\n",
       " 'fault': 0.7842712225,\n",
       " 'uncertainty': 0.7946579362,\n",
       " 'heating': 0.7716094655,\n",
       " 'against': 0.2569984499,\n",
       " 'the quality of': 0.0799071993,\n",
       " 'games': 0.8021481017,\n",
       " 'logic': 0.7872359418,\n",
       " 'variance': 0.7916031225,\n",
       " 'qubit': 0.8003355359,\n",
       " 'argue': 0.448117796,\n",
       " 'a broad': 0.1440790806,\n",
       " 'negotiation': 0.7923948664,\n",
       " 'and': 0.2961659336,\n",
       " 'the output': 0.1207780456,\n",
       " 'had': 0.2403319526,\n",
       " 'different types of': 0.3326969784,\n",
       " 'a result': 0.2356037685,\n",
       " 'represented': 0.4096789412,\n",
       " 'applicability': 0.4344025897,\n",
       " 'polynomial': 0.775934979,\n",
       " 'trust': 0.7573295171,\n",
       " 'in computing': 0.1698314725,\n",
       " 'basis': 0.7743579402,\n",
       " 'union': 0.766928966,\n",
       " 'virtual reality': 0.9768360078,\n",
       " 'different types': 0.2852425663,\n",
       " 'three': 0.3829385163,\n",
       " 'been': 0.209779703,\n",
       " 'quickly': 0.4142206079,\n",
       " 'extraction': 0.7959374004,\n",
       " 'much': 0.2139389537,\n",
       " 'interest': 0.4877873187,\n",
       " 'basic': 0.8070742495,\n",
       " 'expected': 0.7355472239,\n",
       " 'flexible': 0.7785897834,\n",
       " 'this work': 0.113842953,\n",
       " 'dynamically': 0.4450146103,\n",
       " 'life': 0.7932656804,\n",
       " 'extensive': 0.4397346838,\n",
       " 'families': 0.4197397439,\n",
       " 'efficacy': 0.7727604024,\n",
       " 'and or': 0.4686868669,\n",
       " 'quantities': 0.7299027849,\n",
       " 'concerning': 0.2703367207,\n",
       " 'a special': 0.0991690882,\n",
       " 'but also': 0.1035190258,\n",
       " 'enterprises': 0.7814717014,\n",
       " 'the main': 0.3105025447,\n",
       " 'one way': 0.6581117539,\n",
       " 'the computing': 0.2221579777,\n",
       " 'the parameters': 0.2191441604,\n",
       " 'the value': 0.1180469095,\n",
       " 'spin': 0.8036266185,\n",
       " 'applied': 0.704868488,\n",
       " 'commerce': 0.7647063631,\n",
       " 'exception': 0.7458054482,\n",
       " 'benefits of': 0.0552413073,\n",
       " 's sub': 0.2088729747,\n",
       " 'because of': 0.1643117919,\n",
       " 'air': 0.7946292881,\n",
       " 'aim': 0.785359538,\n",
       " 'euclidean': 0.7877108765,\n",
       " 'near': 0.4729253509,\n",
       " 'aid': 0.7461532856,\n",
       " 'to identify': 0.1138445663,\n",
       " 'balance': 0.789771663,\n",
       " 'study': 0.7208109805,\n",
       " 'procedure': 0.7646088596,\n",
       " 'ip': 0.7864856407,\n",
       " 'is': 0.2948940037,\n",
       " 'it': 0.3589222869,\n",
       " 'ii': 0.535522112,\n",
       " 'player': 0.761094268,\n",
       " 'tissue': 0.8144568526,\n",
       " 'experts': 0.7885479404,\n",
       " 'cone': 0.7844646954,\n",
       " 'in': 0.3027637449,\n",
       " 'comparative': 0.8082335652,\n",
       " 'shift': 0.8037578686,\n",
       " 'if': 0.2211078517,\n",
       " 'confirmed': 0.4417953204,\n",
       " 'example of': 0.0805050591,\n",
       " 'descent': 0.7154505336,\n",
       " 'then used': 0.2034238369,\n",
       " 'perform': 0.7516221358,\n",
       " 'suggest': 0.7548370065,\n",
       " 'make': 0.409472635,\n",
       " 'recurrent': 0.7947093885,\n",
       " 'who': 0.2150837553,\n",
       " 'clearly': 0.2821712949,\n",
       " 'complex': 0.746506398,\n",
       " 'potentially': 0.415699185,\n",
       " 'inventory': 0.8120161924,\n",
       " 'hierarchies': 0.7382614287,\n",
       " 'several': 0.2886916673,\n",
       " 'in such': 0.2076269411,\n",
       " 'templates': 0.772389506,\n",
       " 'independent': 0.7659179501,\n",
       " 'satellite': 0.8210882691,\n",
       " 'combination of': 0.0392823558,\n",
       " 'with different': 0.0799654259,\n",
       " 'numerical': 0.7420373302,\n",
       " 'hand': 0.7503306332,\n",
       " 'identification of': 0.1706458282,\n",
       " 'portal': 0.8185527631,\n",
       " 'to facilitate': 0.1671602049,\n",
       " 'opportunity': 0.4120755569,\n",
       " 'cycle': 0.7817409584,\n",
       " 'suitable': 0.5697625189,\n",
       " 'programs': 0.706713105,\n",
       " 'an approach to': 0.1095353146,\n",
       " 'stimuli': 0.4817151789,\n",
       " 'and thus': 0.059802569,\n",
       " 'concept of': 0.0475940483,\n",
       " 'academic': 0.7841671749,\n",
       " 'client': 0.7936390815,\n",
       " 'simulated': 0.691459112,\n",
       " 'quantitative': 0.7982554981,\n",
       " 'the': 0.3573589472,\n",
       " 'paradigm': 0.7579701332,\n",
       " 'corporate': 0.7366404275,\n",
       " 'left': 0.7911355658,\n",
       " 'the frequency': 0.2592533553,\n",
       " 'protocol': 0.7540988633,\n",
       " 'the dynamic': 0.2371151409,\n",
       " 'proposed': 0.647086862,\n",
       " 'a study': 0.329786538,\n",
       " 'in comparison': 0.2448871176,\n",
       " 'newton': 0.7359430955,\n",
       " 'proposes': 0.7960024828,\n",
       " 'bandwidth': 0.8092045068,\n",
       " 'identify': 0.7635477125,\n",
       " 'transforms': 0.7987916083,\n",
       " 'human': 0.8014285554,\n",
       " 'facts': 0.7923930323,\n",
       " 'yet': 0.254805252,\n",
       " 'projection': 0.804006461,\n",
       " 'visualization': 0.796467115,\n",
       " 'volumetric': 0.7991567459,\n",
       " 'vibration': 0.7769813046,\n",
       " 'agile': 0.7978054692,\n",
       " 'relationship between': 0.5202803267,\n",
       " 'emphasis': 0.4678885313,\n",
       " 'passive': 0.7914117735,\n",
       " 'fortran': 0.8040827751,\n",
       " 'greatly': 0.4620975397,\n",
       " 'easy': 0.782710811,\n",
       " 'chaotic systems': 0.9835395533,\n",
       " 'has': 0.2103051267,\n",
       " 'reuse': 0.800016286,\n",
       " 'advances': 0.448117796,\n",
       " 'form of': 0.0912174862,\n",
       " 'possible': 0.3597324628,\n",
       " 'fusion': 0.7822832259,\n",
       " 'background': 0.8154834955,\n",
       " '30': 0.2423799476,\n",
       " 'unique': 0.786755868,\n",
       " 'advanced': 0.7328890676,\n",
       " 'd': 0.410882771,\n",
       " 'construction of': 0.0699565997,\n",
       " 'the end of': 0.0651505044,\n",
       " 'algorithm in': 0.0997887948,\n",
       " 'performing': 0.4495123409,\n",
       " 'manual': 0.738315134,\n",
       " '50': 0.2833516265,\n",
       " 'specific': 0.7389874754,\n",
       " 'as well as': 0.1737475843,\n",
       " 'steps': 0.7038668571,\n",
       " 'a key': 0.1605667045,\n",
       " 'sparse': 0.7703193402,\n",
       " 'arbitrary': 0.6966298224,\n",
       " 'security': 0.7860315599,\n",
       " 'signal': 0.7786937042,\n",
       " 'towards': 0.2718283402,\n",
       " 'the optimization': 0.2073550354,\n",
       " 'right': 0.5236793255,\n",
       " 'deal': 0.7839220221,\n",
       " 'people': 0.3567313655,\n",
       " 'and design': 0.184656451,\n",
       " 'presented for': 0.141841668,\n",
       " 'successfully': 0.3866888509,\n",
       " 'new approach': 0.5116105551,\n",
       " 'way of': 0.1322048295,\n",
       " 'the user': 0.2221361403,\n",
       " 'dense': 0.8043813178,\n",
       " 'a simple': 0.2568740739,\n",
       " 'for': 0.314507297,\n",
       " 'flux': 0.7352223446,\n",
       " 'detecting': 0.7193284984,\n",
       " 'investigations': 0.4448378694,\n",
       " 'a major': 0.1146187557,\n",
       " 'vibration control': 0.9661432622,\n",
       " 'track': 0.7412110866,\n",
       " 'uml': 0.7648729821,\n",
       " 'the results show': 0.1100701713,\n",
       " 'cortical': 0.7743646128,\n",
       " 'participation': 0.4379899883,\n",
       " 'the framework': 0.2071305665,\n",
       " 'core': 0.7777928746,\n",
       " 'particular': 0.4873373657,\n",
       " 'videoconferencing': 0.7358584389,\n",
       " 'minimization': 0.8257996894,\n",
       " 'marketing': 0.774839328,\n",
       " 'in order to': 0.2523124805,\n",
       " 'the notion': 0.1272492929,\n",
       " 'a comparison of': 0.0592580575,\n",
       " 'the analysis of': 0.107549092,\n",
       " 'post': 0.7917347928,\n",
       " 'manufacturing': 0.8049321467,\n",
       " 'super': 0.8036559907,\n",
       " 'properties': 0.7360472528,\n",
       " 'limitation': 0.7265396402,\n",
       " 'work in': 0.1020880291,\n",
       " 'attacks': 0.79505994,\n",
       " 'change of': 0.0534491586,\n",
       " 'wavelets': 0.7444117952,\n",
       " 'o': 0.3780139952,\n",
       " 'to detect': 0.1510628605,\n",
       " 'a data': 0.2287759239,\n",
       " 'distinct': 0.4463875762,\n",
       " 'ensure': 0.7701184043,\n",
       " 'horizon': 0.7760067627,\n",
       " 'experimental data': 0.9695315848,\n",
       " 'eight': 0.2928075538,\n",
       " 'efforts': 0.3924216962,\n",
       " 'this purpose': 0.3670887371,\n",
       " 'automatically': 0.4090398426,\n",
       " 'to create': 0.1654574843,\n",
       " 'managers': 0.7107659686,\n",
       " 'a comprehensive': 0.1671392075,\n",
       " 'systems with': 0.1075830084,\n",
       " 'presence': 0.7431351265,\n",
       " 'a better': 0.1095432147,\n",
       " 'formulae': 0.446973937,\n",
       " 'profession': 0.7193284984,\n",
       " 'bound': 0.791236455,\n",
       " 'down': 0.4387337182,\n",
       " 'haskell': 0.7939844274,\n",
       " 'reducing': 0.479253179,\n",
       " 'often': 0.2146085959,\n",
       " 'rely': 0.7822165474,\n",
       " 'compression': 0.8058115272,\n",
       " 'comparing': 0.3944741353,\n",
       " 'this model': 0.3298773968,\n",
       " 'support': 0.746717578,\n",
       " 'initial': 0.7906331552,\n",
       " 'the three': 0.1848961597,\n",
       " 'approximate': 0.7950382018,\n",
       " 'why': 0.2691791608,\n",
       " 'width': 0.7859510282,\n",
       " 'clinical': 0.767390466,\n",
       " 'fraction': 0.7700030863,\n",
       " 'resulted': 0.4397346838,\n",
       " 'call': 0.4302839123,\n",
       " 'was': 0.2103130364,\n",
       " 'synthesis': 0.8126941413,\n",
       " 'performance in': 0.073848149,\n",
       " 'head': 0.7187691506,\n",
       " 'medium': 0.7683252495,\n",
       " 'described in': 0.0847938639,\n",
       " 'form': 0.7779458162,\n",
       " 'manufacturers': 0.4187238393,\n",
       " 'epsilon': 0.7246195845,\n",
       " 'becoming': 0.2759367467,\n",
       " 'differences': 0.7880592059,\n",
       " 'wireless': 0.813272894,\n",
       " 'failure': 0.7759452971,\n",
       " 'heat': 0.7871238769,\n",
       " 'decoder': 0.7368173282,\n",
       " 'object oriented': 0.9692039251,\n",
       " 'and other': 0.2252894167,\n",
       " 'true': 0.4090398426,\n",
       " 'algorithm to': 0.0941917908,\n",
       " 'a particular': 0.2408364849,\n",
       " 'more than': 0.1190691705,\n",
       " 'the web': 0.5793177548,\n",
       " 'system to': 0.1865481209,\n",
       " 'versions': 0.4332609212,\n",
       " 'assessment': 0.6973238397,\n",
       " 'inside': 0.4448378694,\n",
       " 'the evolution': 0.1637714319,\n",
       " 'maximum': 0.7832490008,\n",
       " 'devices': 0.7503192967,\n",
       " 'achieving': 0.4410512376,\n",
       " 'a wide': 0.1147011199,\n",
       " 'stages': 0.7856899838,\n",
       " 'optimisation': 0.801102146,\n",
       " 'easy to': 0.2432166423,\n",
       " 'the case': 0.3549332709,\n",
       " 'the mean': 0.115995111,\n",
       " 'effect of': 0.0502208493,\n",
       " 'proved': 0.3570604055,\n",
       " 'likely to': 0.2740317936,\n",
       " 'computing': 0.7456929608,\n",
       " 'implications': 0.4339909417,\n",
       " 'abstract': 0.7241724309,\n",
       " 'model to': 0.1121095392,\n",
       " 'evidence': 0.7124786322,\n",
       " 'prover': 0.7944518205,\n",
       " 'exist': 0.4095217984,\n",
       " 'simulations': 0.7639108007,\n",
       " 'accounting': 0.7407122187,\n",
       " 'the idea': 0.1820679218,\n",
       " '20': 0.2986219572,\n",
       " 'distributions': 0.7787338877,\n",
       " 'check': 0.7020319046,\n",
       " 'k': 0.3796632293,\n",
       " 'physical': 0.7952140582,\n",
       " 'nn': 0.7969813361,\n",
       " 'graphs': 0.7959786133,\n",
       " 'whereas': 0.2888023771,\n",
       " 'generally': 0.4104754704,\n",
       " 'reality': 0.7820901191,\n",
       " 'of non': 0.1415914507,\n",
       " 'successful': 0.3985988683,\n",
       " 'setting': 0.6919198279,\n",
       " 'role': 0.7617615351,\n",
       " 'computer science': 0.7991957066,\n",
       " 'digital': 0.7769082882,\n",
       " 'test': 0.7722379963,\n",
       " 'out of': 0.1197093271,\n",
       " 'developers': 0.687515617,\n",
       " 'operators': 0.7613466459,\n",
       " 'a similar': 0.1335153856,\n",
       " 'node': 0.7228929271,\n",
       " 'degree of': 0.0901803083,\n",
       " 'of three': 0.1895605936,\n",
       " 'this way': 0.0892912737,\n",
       " 'models': 0.7305709762,\n",
       " 'the set': 0.1820383025,\n",
       " 'details of': 0.0594647287,\n",
       " 'the underlying': 0.171177525,\n",
       " 'functions of': 0.0797658064,\n",
       " 'concurrent': 0.7984420614,\n",
       " 'points of': 0.0504482168,\n",
       " 'variable': 0.774793231,\n",
       " 'to improve': 0.1853200938,\n",
       " 'omega': 0.7365389791,\n",
       " 'to develop': 0.1528632295,\n",
       " 'longer': 0.7796303159,\n",
       " 'interval': 0.7893852171,\n",
       " 'modules': 0.7740878112,\n",
       " 'together': 0.4964816831,\n",
       " 'the treatment of': 0.0628217764,\n",
       " 'advantage of': 0.1497826634,\n",
       " 'few years': 0.5947071548,\n",
       " 'time': 0.4285540458,\n",
       " 'to extend': 0.159261311,\n",
       " 'serious': 0.2788030183,\n",
       " 'backward': 0.7947093885,\n",
       " 'precise': 0.448117796,\n",
       " 'concept': 0.769053464,\n",
       " 'chain': 0.7776201956,\n",
       " 'global': 0.7811680479,\n",
       " 'focus': 0.7620041977,\n",
       " 'leads': 0.7721798555,\n",
       " 'quality of': 0.0505185853,\n",
       " 'computation': 0.7776895727,\n",
       " 'the integration': 0.185182899,\n",
       " 'layers': 0.7708693406,\n",
       " 'consists of': 0.2073669961,\n",
       " 'inverse': 0.7993154806,\n",
       " 'graph': 0.7912493495,\n",
       " 'technique': 0.6696088798,\n",
       " 'experimentally': 0.3861862054,\n",
       " 'environment': 0.765907096,\n",
       " '0': 0.4426979721,\n",
       " 'quasi': 0.8025895395,\n",
       " 'solutions of': 0.0709611847,\n",
       " 'elliptic': 0.7563500685,\n",
       " 'the different': 0.1787442764,\n",
       " 'algorithms for': 0.4143570914,\n",
       " 'field of': 0.0799644302,\n",
       " 'convergence of': 0.074826836,\n",
       " 'involved in': 0.1127893557,\n",
       " 'advantage': 0.7512313149,\n",
       " 'orthogonal': 0.8036115058,\n",
       " 'frequencies': 0.8215457925,\n",
       " 'choice': 0.7850913889,\n",
       " 'means of': 0.0660777064,\n",
       " '1995': 0.3161509957,\n",
       " 'exact': 0.7833468262,\n",
       " 'to show': 0.17641902,\n",
       " 'perceived': 0.7944074359,\n",
       " '1997': 0.315445507,\n",
       " 'expert system': 0.8110577532,\n",
       " 'level': 0.7336183807,\n",
       " 'did': 0.2870761996,\n",
       " 'needs to': 0.0674530701,\n",
       " '1996': 0.3193106763,\n",
       " 'a multi': 0.2652865592,\n",
       " 'standards': 0.7864693434,\n",
       " 'leave': 0.7363205493,\n",
       " 'discrete': 0.7757530433,\n",
       " 'the problem of': 0.4386145682,\n",
       " 'team': 0.8243585027,\n",
       " 'perceptual': 0.79505994,\n",
       " 'upper': 0.7984063311,\n",
       " 'says': 0.2899735974,\n",
       " 'findings': 0.4224793801,\n",
       " 'useful for': 0.082006206,\n",
       " 'trend': 0.4251928167,\n",
       " 'to determine': 0.167115691,\n",
       " 'prediction': 0.7967979457,\n",
       " 'cost': 0.7862558253,\n",
       " 'a function': 0.2655285414,\n",
       " 'with respect to': 0.2039386339,\n",
       " 'patient': 0.7999658984,\n",
       " 'spectral': 0.8011695284,\n",
       " 'a virtual': 0.0949095139,\n",
       " 'the behavior of': 0.0787664395,\n",
       " 'appear': 0.2870761996,\n",
       " 'the finite': 0.213444098,\n",
       " 'uniform': 0.7873159115,\n",
       " 'current': 0.7278475436,\n",
       " 'sequential': 0.8022790402,\n",
       " 'goes': 0.2758420728,\n",
       " 'shared': 0.7957016216,\n",
       " 'staff': 0.7284360983,\n",
       " 'boost': 0.4987504256,\n",
       " 'the corresponding': 0.1323572369,\n",
       " 'satisfy': 0.4417953204,\n",
       " 'supporting': 0.4412340982,\n",
       " 'consisting of': 0.3167526869,\n",
       " 'transportation': 0.7571865903,\n",
       " 'and experimental': 0.2406496759,\n",
       " ...}"
      ]
     },
     "execution_count": 18,
     "metadata": {},
     "output_type": "execute_result"
    }
   ],
   "source": [
    "a_weight"
   ]
  },
  {
   "cell_type": "code",
   "execution_count": 45,
   "metadata": {},
   "outputs": [],
   "source": [
    "# extract phrase and evaluate original text dataset\n",
    "import re\n",
    "from tqdm import tqdm\n",
    "\n",
    "seg_path = \"../models/inspec_train/segmentation.txt\"\n",
    "with open(seg_path,'r') as f:\n",
    "    lines = [line.lower().rstrip() for line in f]\n",
    "assert len(lines) == 2*500\n",
    "tf = []\n",
    "phrase = set()\n",
    "ref = []\n",
    "for j in range(500):\n",
    "    title_k = re.findall('<phrase>(.+?)</phrase>', lines[2*j])\n",
    "    abstract_k = re.findall('<phrase>(.+?)</phrase>', lines[2*j+1])  \n",
    "    counts = dict()\n",
    "    for i in title_k:\n",
    "        counts[i] = counts.get(i, 0) + 5\n",
    "        phrase.add(i)\n",
    "    for i in abstract_k:\n",
    "        counts[i] = counts.get(i, 0) + 1  \n",
    "        phrase.add(i)\n",
    "    # update tf with phrase quality\n",
    "    for item in counts.keys():\n",
    "        if item in m_weight:\n",
    "            counts[item] = counts[item]*m_weight[item]\n",
    "        elif item in s_weight:\n",
    "            counts[item] = counts[item]*s_weight[item]*0.1\n",
    "        else:\n",
    "            counts[item] = counts[item]\n",
    "    tf.append(counts)\n",
    "    ref.append(title_k+abstract_k)"
   ]
  },
  {
   "cell_type": "code",
   "execution_count": 25,
   "metadata": {},
   "outputs": [],
   "source": [
    "df = {}\n",
    "for idx,kp in enumerate(phrase):\n",
    "    if idx % 1000 ==0:\n",
    "        print(idx)\n",
    "    for i in range(500):\n",
    "        if kp in tf[i]:\n",
    "            df[kp] = df.get(kp,0)+1"
   ]
  },
  {
   "cell_type": "code",
   "execution_count": 47,
   "metadata": {},
   "outputs": [],
   "source": [
    "assert len(phrase)==len(df)"
   ]
  },
  {
   "cell_type": "code",
   "execution_count": 46,
   "metadata": {},
   "outputs": [],
   "source": [
    "import json\n",
    "# with open('inspec_ori_df.json', 'w') as fp:\n",
    "#     json.dump(df, fp)\n",
    "\n",
    "df = json.load(open('inspec_ori_df.json','r'))"
   ]
  },
  {
   "cell_type": "code",
   "execution_count": 48,
   "metadata": {},
   "outputs": [],
   "source": [
    "import math\n",
    "result = []\n",
    "for i in range(500):\n",
    "    term_freq = tf[i]\n",
    "    score_dict = {}\n",
    "    for key, value in term_freq.iteritems():\n",
    "        assert df[key]>=1\n",
    "        score_dict[key] = value * math.log(500/df[key])\n",
    "    result.append(sorted(score_dict, key=score_dict.get)[::-1])"
   ]
  },
  {
   "cell_type": "code",
   "execution_count": 29,
   "metadata": {},
   "outputs": [
    {
     "data": {
      "text/plain": [
       "['partial functions',\n",
       " 'decomposition clone',\n",
       " 'q-partitions',\n",
       " 'disjunctive decomposition',\n",
       " 'minterms']"
      ]
     },
     "execution_count": 29,
     "metadata": {},
     "output_type": "execute_result"
    }
   ],
   "source": [
    "present[7]"
   ]
  },
  {
   "cell_type": "code",
   "execution_count": 30,
   "metadata": {},
   "outputs": [],
   "source": [
    "ttl = []\n",
    "for i in range(500):\n",
    "    ttl.append(present[i]+absent[i])"
   ]
  },
  {
   "cell_type": "code",
   "execution_count": 49,
   "metadata": {},
   "outputs": [
    {
     "name": "stderr",
     "output_type": "stream",
     "text": [
      "100%|██████████| 500/500 [00:00<00:00, 58166.97it/s]"
     ]
    },
    {
     "name": "stdout",
     "output_type": "stream",
     "text": [
      "('precision:', 0.21887550200803296)\n",
      "('recall:', 0.1734998941755321)\n",
      "('f1:', 0.1935640042947259)\n"
     ]
    },
    {
     "name": "stderr",
     "output_type": "stream",
     "text": [
      "\n"
     ]
    }
   ],
   "source": [
    "TOP_K = 5\n",
    "precision = []\n",
    "recall = []\n",
    "for pr_kp, rank in tqdm(zip(present, result),total=len(result)):\n",
    "    if len(pr_kp)>=1:\n",
    "        ref = rank[:TOP_K]\n",
    "        tmp = 0\n",
    "        for rk in ref:\n",
    "            if rk in pr_kp:\n",
    "                tmp += 1\n",
    "        precision.append(tmp*1.0/TOP_K)\n",
    "        recall.append(tmp*1.0/len(pr_kp))\n",
    "\n",
    "p = sum(precision)/len(precision)\n",
    "r = sum(recall)/len(recall)\n",
    "print('precision:',p)\n",
    "print('recall:',r)\n",
    "print('f1:',2*p*r/(p+r))"
   ]
  },
  {
   "cell_type": "code",
   "execution_count": 36,
   "metadata": {},
   "outputs": [],
   "source": [
    "# extract phrase and evaluate augmented dataset\n",
    "import re\n",
    "from tqdm import tqdm\n",
    "\n",
    "seg_path = \"../models/inspec_train/segmentation_aug.txt\"\n",
    "with open(seg_path,'r') as f:\n",
    "    lines = [line.lower().rstrip() for line in f]\n",
    "assert len(lines) == 3*500\n",
    "aug_tf = []\n",
    "phrase = set()\n",
    "ref = []\n",
    "for j in range(500):\n",
    "    title_k = re.findall('<phrase>(.+?)</phrase>', lines[3*j])\n",
    "    sum_k = re.findall('<phrase>(.+?)</phrase>', lines[3*j+1])\n",
    "    abstract_k = re.findall('<phrase>(.+?)</phrase>', lines[3*j+2])  \n",
    "    counts = dict()\n",
    "    for i in title_k:\n",
    "        counts[i] = counts.get(i, 0) + 5\n",
    "        phrase.add(i)\n",
    "    for i in sum_k:\n",
    "        counts[i] = counts.get(i, 0) + 0.01\n",
    "        phrase.add(i)\n",
    "    for i in abstract_k:\n",
    "        counts[i] = counts.get(i, 0) + 1  \n",
    "        phrase.add(i)\n",
    "    # update tf with phrase quality\n",
    "    for item in counts.keys():\n",
    "        if item in m_weight:\n",
    "            counts[item] = counts[item]*m_weight[item]\n",
    "        elif item in s_weight:\n",
    "            counts[item] = counts[item]*s_weight[item]*0.1\n",
    "        else:\n",
    "            counts[item] = counts[item]\n",
    "    aug_tf.append(counts)"
   ]
  },
  {
   "cell_type": "code",
   "execution_count": 37,
   "metadata": {},
   "outputs": [
    {
     "name": "stdout",
     "output_type": "stream",
     "text": [
      "0\n",
      "1000\n",
      "2000\n",
      "3000\n",
      "4000\n",
      "5000\n",
      "6000\n"
     ]
    }
   ],
   "source": [
    "aug_df = {}\n",
    "for idx, item in enumerate(phrase):\n",
    "    if idx% 1000==0:\n",
    "        print(idx)\n",
    "    for i in range(500):\n",
    "        if item in aug_tf[i]:\n",
    "            aug_df[item] = aug_df.get(item,0)+1      "
   ]
  },
  {
   "cell_type": "code",
   "execution_count": 38,
   "metadata": {},
   "outputs": [],
   "source": [
    "import json\n",
    "with open('inspec_aug_df.json', 'w') as fp:\n",
    "    json.dump(aug_df, fp)\n",
    "# aug_df = json.load(open('inspec_aug_df.json'))"
   ]
  },
  {
   "cell_type": "code",
   "execution_count": 39,
   "metadata": {},
   "outputs": [],
   "source": [
    "assert len(phrase)==len(aug_df)"
   ]
  },
  {
   "cell_type": "code",
   "execution_count": 40,
   "metadata": {},
   "outputs": [],
   "source": [
    "import math\n",
    "result = []\n",
    "for i in range(500):\n",
    "    term_freq = aug_tf[i]\n",
    "    score_dict = {}\n",
    "    for key, value in term_freq.iteritems():\n",
    "        assert aug_df[key]>=1\n",
    "        score_dict[key] = value * math.log(500/aug_df[key])\n",
    "    result.append(sorted(score_dict, key=score_dict.get)[::-1])"
   ]
  },
  {
   "cell_type": "code",
   "execution_count": 41,
   "metadata": {},
   "outputs": [],
   "source": [
    "ttl = []\n",
    "for i in range(500):\n",
    "    ttl.append(present[i]+absent[i])"
   ]
  },
  {
   "cell_type": "code",
   "execution_count": 43,
   "metadata": {},
   "outputs": [
    {
     "name": "stderr",
     "output_type": "stream",
     "text": [
      "100%|██████████| 500/500 [00:00<00:00, 105729.87it/s]"
     ]
    },
    {
     "name": "stdout",
     "output_type": "stream",
     "text": [
      "('precision:', 0.18835341365461836)\n",
      "('recall:', 0.2734214303380282)\n",
      "('f1:', 0.22305182034262627)\n"
     ]
    },
    {
     "name": "stderr",
     "output_type": "stream",
     "text": [
      "\n"
     ]
    }
   ],
   "source": [
    "TOP_K = 10\n",
    "precision = []\n",
    "recall = []\n",
    "groundtruth = present\n",
    "for pr_kp, rank in tqdm(zip(groundtruth, result),total=len(result)):\n",
    "    if len(pr_kp)>=1:\n",
    "        ref = rank[:TOP_K]\n",
    "        tmp = 0\n",
    "        for rk in ref:\n",
    "            if rk in pr_kp:\n",
    "                tmp += 1\n",
    "        precision.append(tmp*1.0/TOP_K)\n",
    "        recall.append(tmp*1.0/len(pr_kp))\n",
    "\n",
    "p = sum(precision)/len(precision)\n",
    "r = sum(recall)/len(recall)\n",
    "print('precision:',p)\n",
    "print('recall:',r)\n",
    "print('f1:',2*p*r/(p+r))"
   ]
  },
  {
   "cell_type": "code",
   "execution_count": 354,
   "metadata": {},
   "outputs": [
    {
     "name": "stdout",
     "output_type": "stream",
     "text": [
      "([0.5, 1.0, 1.0, 1.0, 1.0, 1.0, 1.0, 1.0, 1.0], [1.0, 1.0, 0.6666666666666666, 0.5, 0.4, 0.3333333333333333, 0.2857142857142857, 0.25, 0.2222222222222222])\n"
     ]
    },
    {
     "data": {
      "image/png": "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\n",
      "text/plain": [
       "<Figure size 432x288 with 1 Axes>"
      ]
     },
     "metadata": {
      "needs_background": "light"
     },
     "output_type": "display_data"
    },
    {
     "name": "stdout",
     "output_type": "stream",
     "text": [
      "([0.2, 0.4, 0.4, 0.6, 0.6, 0.6, 0.6, 0.6, 0.6], [1.0, 1.0, 0.6666666666666666, 0.75, 0.6, 0.5, 0.42857142857142855, 0.375, 0.3333333333333333])\n"
     ]
    },
    {
     "data": {
      "image/png": "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\n",
      "text/plain": [
       "<Figure size 432x288 with 1 Axes>"
      ]
     },
     "metadata": {
      "needs_background": "light"
     },
     "output_type": "display_data"
    },
    {
     "name": "stdout",
     "output_type": "stream",
     "text": [
      "([0.0, 0.0, 0.0, 0.0, 0.0, 0.0, 0.0, 0.0, 0.0], [0.0, 0.0, 0.0, 0.0, 0.0, 0.0, 0.0, 0.0, 0.0])\n"
     ]
    },
    {
     "data": {
      "image/png": "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\n",
      "text/plain": [
       "<Figure size 432x288 with 1 Axes>"
      ]
     },
     "metadata": {
      "needs_background": "light"
     },
     "output_type": "display_data"
    },
    {
     "name": "stdout",
     "output_type": "stream",
     "text": [
      "([0.0, 0.0, 0.0, 0.0, 0.0, 0.0, 0.0, 0.0, 0.0], [0.0, 0.0, 0.0, 0.0, 0.0, 0.0, 0.0, 0.0, 0.0])\n"
     ]
    },
    {
     "data": {
      "image/png": "iVBORw0KGgoAAAANSUhEUgAAAYYAAAD8CAYAAABzTgP2AAAABHNCSVQICAgIfAhkiAAAAAlwSFlzAAALEgAACxIB0t1+/AAAADl0RVh0U29mdHdhcmUAbWF0cGxvdGxpYiB2ZXJzaW9uIDIuMi4zLCBodHRwOi8vbWF0cGxvdGxpYi5vcmcvIxREBQAADsBJREFUeJzt23GonXd9x/H3x1xMUaFN2kRr0+xWWhjpBoqHFtkGnbVtOtAU7R/p/jBslfwx+8cUwUg3aqt/tN2kIrqNoEIQZusqYkBGia2FMUbtSduhmcZco9JrS42kFLpiS+Z3f9yn2/ldzu29uc+59+TW9wsO53l+v+95zveXA/nc53nOSVUhSdKr3jDtBiRJ5xaDQZLUMBgkSQ2DQZLUMBgkSQ2DQZLUMBgkSQ2DQZLUMBgkSY2ZaTewGhdddFHNzs5Ouw1J2lCOHj3666ratlzdhgyG2dlZhsPhtNuQpA0lyS9WUuelJElSw2CQJDUMBklSw2CQJDUMBklSw2CQJDUMBklSw2CQJDUMBklSw2CQJDUMBklSw2CQJDUMBklSw2CQJDUMBklSw2CQJDUMBklSw2CQJDUMBklSw2CQJDUMBklSw2CQJDUMBklSw2CQJDUmEgxJdic5nmQuyYEx85uTPNDNP5ZkdtH8ziQvJvnEJPqRJK1e72BIsgn4EnAjsAu4JcmuRWW3As9X1eXAfcA9i+bvA/61by+SpP4mccZwFTBXVSer6hXgfmDPopo9wKFu+0Hg2iQBSHITcBI4NoFeJEk9TSIYLgGeHtmf78bG1lTVGeAF4MIkbwY+Cdw5gT4kSRMwiWDImLFaYc2dwH1V9eKyb5LsTzJMMjx16tQq2pQkrcTMBI4xD1w6sr8DeGaJmvkkM8D5wGngauDmJPcCFwC/TfKbqvri4jepqoPAQYDBYLA4eCRJEzKJYHgcuCLJZcAvgb3Any+qOQzsA/4DuBl4pKoK+JNXC5J8GnhxXChIktZP72CoqjNJbgMeAjYBX62qY0nuAoZVdRj4CvC1JHMsnCns7fu+kqS1kYU/3DeWwWBQw+Fw2m1I0oaS5GhVDZar85fPkqSGwSBJahgMkqSGwSBJahgMkqSGwSBJahgMkqSGwSBJahgMkqSGwSBJahgMkqSGwSBJahgMkqSGwSBJahgMkqSGwSBJahgMkqSGwSBJahgMkqSGwSBJahgMkqSGwSBJahgMkqSGwSBJahgMkqSGwSBJahgMkqSGwSBJahgMkqSGwSBJahgMkqTGRIIhye4kx5PMJTkwZn5zkge6+ceSzHbj1yU5muQH3fN7J9GPJGn1egdDkk3Al4AbgV3ALUl2LSq7FXi+qi4H7gPu6cZ/Dby/qv4Q2Ad8rW8/kqR+JnHGcBUwV1Unq+oV4H5gz6KaPcChbvtB4Nokqaonq+qZbvwYcF6SzRPoSZK0SpMIhkuAp0f257uxsTVVdQZ4AbhwUc2HgCer6uUJ9CRJWqWZCRwjY8bqbGqSXMnC5aXrl3yTZD+wH2Dnzp1n36UkaUUmccYwD1w6sr8DeGapmiQzwPnA6W5/B/At4MNV9dOl3qSqDlbVoKoG27Ztm0DbkqRxJhEMjwNXJLksyRuBvcDhRTWHWbi5DHAz8EhVVZILgO8An6qqf59AL5KknnoHQ3fP4DbgIeBHwDeq6liSu5J8oCv7CnBhkjng48CrX2m9Dbgc+NskT3WP7X17kiStXqoW3w449w0GgxoOh9NuQ5I2lCRHq2qwXJ2/fJYkNQwGSVLDYJAkNQwGSVLDYJAkNQwGSVLDYJAkNQwGSVLDYJAkNQwGSVLDYJAkNQwGSVLDYJAkNQwGSVLDYJAkNQwGSVLDYJAkNQwGSVLDYJAkNQwGSVLDYJAkNQwGSVLDYJAkNQwGSVLDYJAkNQwGSVLDYJAkNQwGSVLDYJAkNQwGSVJjIsGQZHeS40nmkhwYM785yQPd/GNJZkfmPtWNH09ywyT6kSStXu9gSLIJ+BJwI7ALuCXJrkVltwLPV9XlwH3APd1rdwF7gSuB3cA/dMeTJE3JJM4YrgLmqupkVb0C3A/sWVSzBzjUbT8IXJsk3fj9VfVyVf0MmOuOJ0makkkEwyXA0yP7893Y2JqqOgO8AFy4wtdKktbRJIIhY8ZqhTUree3CAZL9SYZJhqdOnTrLFiVJKzWJYJgHLh3Z3wE8s1RNkhngfOD0Cl8LQFUdrKpBVQ22bds2gbYlSeNMIhgeB65IclmSN7JwM/nwoprDwL5u+2bgkaqqbnxv962ly4ArgO9PoCdJ0irN9D1AVZ1JchvwELAJ+GpVHUtyFzCsqsPAV4CvJZlj4Uxhb/faY0m+AfwXcAb4aFX9T9+eJEmrl4U/3DeWwWBQw+Fw2m1I0oaS5GhVDZar85fPkqSGwSBJahgMkqSGwSBJahgMkqSGwSBJahgMkqSGwSBJahgMkqSGwSBJahgMkqSGwSBJahgMkqSGwSBJahgMkqSGwSBJahgMkqSGwSBJahgMkqSGwSBJahgMkqSGwSBJahgMkqSGwSBJahgMkqSGwSBJahgMkqSGwSBJahgMkqSGwSBJahgMkqRGr2BIsjXJkSQnuuctS9Tt62pOJNnXjb0pyXeS/DjJsSR39+lFkjQZfc8YDgAPV9UVwMPdfiPJVuAO4GrgKuCOkQD5+6r6feBdwB8lubFnP5KknvoGwx7gULd9CLhpTM0NwJGqOl1VzwNHgN1V9VJVfQ+gql4BngB29OxHktRT32B4a1U9C9A9bx9Tcwnw9Mj+fDf2f5JcALyfhbMOSdIUzSxXkOS7wNvGTN2+wvfImLEaOf4M8HXgC1V18jX62A/sB9i5c+cK31qSdLaWDYaqet9Sc0meS3JxVT2b5GLgV2PK5oFrRvZ3AI+O7B8ETlTV55fp42BXy2AwqNeqlSStXt9LSYeBfd32PuDbY2oeAq5PsqW76Xx9N0aSzwLnA3/dsw9J0oT0DYa7geuSnACu6/ZJMkjyZYCqOg18Bni8e9xVVaeT7GDhctQu4IkkTyX5SM9+JEk9pWrjXZUZDAY1HA6n3YYkbShJjlbVYLk6f/ksSWoYDJKkhsEgSWoYDJKkhsEgSWoYDJKkhsEgSWoYDJKkhsEgSWoYDJKkhsEgSWoYDJKkhsEgSWoYDJKkhsEgSWoYDJKkhsEgSWoYDJKkhsEgSWoYDJKkhsEgSWoYDJKkhsEgSWoYDJKkhsEgSWoYDJKkhsEgSWoYDJKkhsEgSWoYDJKkRq9gSLI1yZEkJ7rnLUvU7etqTiTZN2b+cJIf9ulFkjQZfc8YDgAPV9UVwMPdfiPJVuAO4GrgKuCO0QBJ8kHgxZ59SJImpG8w7AEOdduHgJvG1NwAHKmq01X1PHAE2A2Q5C3Ax4HP9uxDkjQhfYPhrVX1LED3vH1MzSXA0yP7890YwGeAzwEv9exDkjQhM8sVJPku8LYxU7ev8D0yZqySvBO4vKo+lmR2BX3sB/YD7Ny5c4VvLUk6W8sGQ1W9b6m5JM8lubiqnk1yMfCrMWXzwDUj+zuAR4H3AO9O8vOuj+1JHq2qaxijqg4CBwEGg0Et17ckaXX6Xko6DLz6LaN9wLfH1DwEXJ9kS3fT+Xrgoar6x6p6e1XNAn8M/GSpUJAkrZ++wXA3cF2SE8B13T5JBkm+DFBVp1m4l/B497irG5MknYNStfGuygwGgxoOh9NuQ5I2lCRHq2qwXJ2/fJYkNQwGSVLDYJAkNQwGSVLDYJAkNQwGSVLDYJAkNQwGSVLDYJAkNQwGSVLDYJAkNQwGSVLDYJAkNQwGSVLDYJAkNQwGSVLDYJAkNQwGSVLDYJAkNQwGSVLDYJAkNQwGSVLDYJAkNQwGSVLDYJAkNVJV0+7hrCU5Bfxi2n2cpYuAX0+7iXXmmn83uOaN4/eqattyRRsyGDaiJMOqGky7j/Xkmn83uObXHy8lSZIaBoMkqWEwrJ+D025gClzz7wbX/DrjPQZJUsMzBklSw2CYoCRbkxxJcqJ73rJE3b6u5kSSfWPmDyf54dp33F+fNSd5U5LvJPlxkmNJ7l7f7s9Okt1JjieZS3JgzPzmJA90848lmR2Z+1Q3fjzJDevZdx+rXXOS65IcTfKD7vm96937avT5jLv5nUleTPKJ9ep5TVSVjwk9gHuBA932AeCeMTVbgZPd85Zue8vI/AeBfwZ+OO31rPWagTcBf9rVvBH4N+DGaa9piXVuAn4KvKPr9T+BXYtq/gr4p257L/BAt72rq98MXNYdZ9O017TGa34X8PZu+w+AX057PWu53pH5bwL/Anxi2uvp8/CMYbL2AIe67UPATWNqbgCOVNXpqnoeOALsBkjyFuDjwGfXoddJWfWaq+qlqvoeQFW9AjwB7FiHnlfjKmCuqk52vd7PwtpHjf5bPAhcmyTd+P1V9XJV/QyY6453rlv1mqvqyap6phs/BpyXZPO6dL16fT5jktzEwh89x9ap3zVjMEzWW6vqWYDuefuYmkuAp0f257sxgM8AnwNeWssmJ6zvmgFIcgHwfuDhNeqzr2XXMFpTVWeAF4ALV/jac1GfNY/6EPBkVb28Rn1OyqrXm+TNwCeBO9ehzzU3M+0GNpok3wXeNmbq9pUeYsxYJXkncHlVfWzxdctpW6s1jxx/Bvg68IWqOnn2Ha6L11zDMjUree25qM+aFyaTK4F7gOsn2Nda6bPeO4H7qurF7gRiQzMYzlJVvW+puSTPJbm4qp5NcjHwqzFl88A1I/s7gEeB9wDvTvJzFj6X7UkeraprmLI1XPOrDgInqurzE2h3rcwDl47s7wCeWaJmvgu784HTK3ztuajPmkmyA/gW8OGq+unat9tbn/VeDdyc5F7gAuC3SX5TVV9c+7bXwLRvcryeHsDf0d6IvXdMzVbgZyzcfN3SbW9dVDPLxrn53GvNLNxP+SbwhmmvZZl1zrBw/fgy/v/G5JWLaj5Ke2PyG932lbQ3n0+yMW4+91nzBV39h6a9jvVY76KaT7PBbz5PvYHX04OFa6sPAye651f/8xsAXx6p+0sWbkDOAX8x5jgbKRhWvWYW/iIr4EfAU93jI9Ne02us9c+An7DwzZXbu7G7gA902+ex8I2UOeD7wDtGXnt797rjnKPfvJrkmoG/Af575HN9Ctg+7fWs5Wc8cowNHwz+8lmS1PBbSZKkhsEgSWoYDJKkhsEgSWoYDJKkhsEgSWoYDJKkhsEgSWr8L4G+I6VKUcyzAAAAAElFTkSuQmCC\n",
      "text/plain": [
       "<Figure size 432x288 with 1 Axes>"
      ]
     },
     "metadata": {
      "needs_background": "light"
     },
     "output_type": "display_data"
    },
    {
     "name": "stdout",
     "output_type": "stream",
     "text": [
      "([0.3333333333333333, 0.3333333333333333, 0.3333333333333333, 0.3333333333333333, 0.3333333333333333, 0.3333333333333333, 0.3333333333333333, 0.3333333333333333, 0.3333333333333333], [1.0, 0.5, 0.3333333333333333, 0.25, 0.2, 0.16666666666666666, 0.14285714285714285, 0.125, 0.1111111111111111])\n"
     ]
    },
    {
     "data": {
      "image/png": "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\n",
      "text/plain": [
       "<Figure size 432x288 with 1 Axes>"
      ]
     },
     "metadata": {
      "needs_background": "light"
     },
     "output_type": "display_data"
    },
    {
     "name": "stdout",
     "output_type": "stream",
     "text": [
      "([0.2, 0.4, 0.4, 0.6, 0.8, 0.8, 0.8, 0.8, 0.8], [1.0, 1.0, 0.6666666666666666, 0.75, 0.8, 0.6666666666666666, 0.5714285714285714, 0.5, 0.4444444444444444])\n"
     ]
    },
    {
     "data": {
      "image/png": "iVBORw0KGgoAAAANSUhEUgAAAXcAAAD8CAYAAACMwORRAAAABHNCSVQICAgIfAhkiAAAAAlwSFlzAAALEgAACxIB0t1+/AAAADl0RVh0U29mdHdhcmUAbWF0cGxvdGxpYiB2ZXJzaW9uIDIuMi4zLCBodHRwOi8vbWF0cGxvdGxpYi5vcmcvIxREBQAAFl9JREFUeJzt3X9wXeV95/H3178xln9gSZZjW7bBsoQLSQmqSUoTY4fsGqYLbZPNQtrtspuENhPSmaTb2TDppBk6O+10u5vp7tJ2nA6TtDMtzfDH1s24y06DKUk2tJgNocGxjOMYEI4tGWMsG/xD0nf/uNfiWhHoSrrSvT5+v2Y03HPuo6vv43P14eg5z7lPZCaSpGKZVe8CJEm1Z7hLUgEZ7pJUQIa7JBWQ4S5JBWS4S1IBGe6SVECGuyQVkOEuSQU0p14/uLm5OdetW1evHy9Jl6Snn376WGa2jNeubuG+bt069uzZU68fL0mXpIh4oZp2DstIUgEZ7pJUQIa7JBWQ4S5JBWS4S1IBjRvuEfFQRPRFxPff4vmIiP8eEQci4tmIeHfty5QkTUQ1Z+5fAba/zfO3AR3lr3uBP5l6WZKkqRh3nntmPhER696myZ3An2dpvb4nI2JpRKzMzB/XqMaLPHXoON/c3z8dL60pmDUr+Ej3Gt6x9Ip6lyKJ2tzEtAp4qWK7t7zvJ8I9Iu6ldHZPe3v7pH7Y/3vhVf7H7gOT+l5NjwvL8M6O4NMf6KhvMZKA2oR7jLFvzFW3M3MHsAOgu7t7Uitz/9qWa/i1LddM5ls1TTKT9ffvYsjF1qWGUYvZMr3Amort1cDhGryuJGmSahHuO4FfLc+aeQ/w2nSNt0uSqjPusExE/BVwC9AcEb3A7wBzATLzT4FdwO3AAeB14N9PV7GSpOpUM1vm7nGeT+BTNatIkjRl3qEqSQVkuEtSARnuklRAhrskFZDhLkkFZLhLUgEZ7pJUQIa7JBWQ4S5JBWS4S1IBGe6SVECGuyQVkOEuSQVkuEtSARnuklRAhrskFZDhLkkFZLhLUgEZ7pJUQIa7JBWQ4S5JBWS4S1IBGe6SVECGuyQVkOEuSQVkuEtSAVUV7hGxPSJ6IuJARHxujOfXRsQ3IuLZiHg8IlbXvlRJUrXGDfeImA08CNwGbALujohNo5r9IfDnmflO4AHg92pdqCSpetWcuW8GDmTmwcw8BzwM3DmqzSbgG+XHu8d4XpI0g6oJ91XASxXbveV9lb4HfKj8+BeBpohYPvXyJEmTUU24xxj7ctT2fwS2RMR3gS3Ay8DgT7xQxL0RsSci9vT390+4WElSdaoJ915gTcX2auBwZYPMPJyZv5SZNwCfL+97bfQLZeaOzOzOzO6WlpYplC1JejvVhPtTQEdErI+IecBdwM7KBhHRHBEXXut+4KHalilJmohxwz0zB4H7gEeBHwBfy8znIuKBiLij3OwWoCci9gMrgP88TfVKkqowp5pGmbkL2DVq3xcqHj8CPFLb0iRJk+UdqpJUQIa7JBWQ4S5JBWS4S1IBGe6SVECGuyQVkOEuSQVkuEtSARnuklRAhrskFZDhLkkFZLhLUgEZ7pJUQIa7JBWQ4S5JBWS4S1IBGe6SVECGuyQVkOEuSQVkuEtSARnuklRAhrskFZDhLkkFZLhLUgEZ7pJUQIa7JBWQ4S5JBVRVuEfE9ojoiYgDEfG5MZ5vj4jdEfHdiHg2Im6vfamSpGqNG+4RMRt4ELgN2ATcHRGbRjX7beBrmXkDcBfwx7UuVJJUvWrO3DcDBzLzYGaeAx4G7hzVJoHF5cdLgMO1K1GSLn2DQ8Mc6DvF4z19nDk/NO0/b04VbVYBL1Vs9wI3jWrzReD/RMSngSuBW8d6oYi4F7gXoL29faK1SlLDy0yOnjxLz9EBeo6cZN+RAXqODPB83ynODQ4D8If/+l18+MbV01pHNeEeY+zLUdt3A1/JzP8aEe8F/iIirsvM4Yu+KXMHsAOgu7t79GtI0iVl4Mx59h8dGAnwfUcG2H90gBOvnx9ps2LxfDrbFnPzhmbaFi/gga/vbZgz915gTcX2an5y2OVjwHaAzPxORCwAmoG+WhQpSfV0bnCYg8dOvRng5f++fOKNkTaL5s+hs62J269fSeeKJjrbmuhqa2LpwnkjbfoGzvDA1/fOSM3VhPtTQEdErAdepnTB9KOj2rwIfAD4SkRcCywA+mtZqCRNt8zk5RNvjIR4T/nr4LFTnB8qDTbMmRVc07KIG9cu46M3tdPVVgryVUuvIGKsgY76GDfcM3MwIu4DHgVmAw9l5nMR8QCwJzN3Ar8JfDkiPkNpyOaezHTYRVLDOvH6uYuGU3qOnGT/0VOcOjs40mbV0ivoamviA9e2ls/EF7O++UrmzWn8W4SqOXMnM3cBu0bt+0LF473AzbUtTZKm7sz5IQ70nRoZD78Q5EdPnh1ps+SKuXS2NfFL7141MpyycUUTTQvm1rHyqakq3CWp0Q0PJy8ef/3N4ZSjpZkqh46dZrg8jjBvziw6Whdx84bm8nDKYrrammhtmt9QQyq1YLhLuuT0D5wtD6ecLAf5AM8fPcUb5VkoEbD2qoVsXNHEz1+/ks62xXS2NbFu+ULmzG78IZVaMNwlNazTZwfZf3TgoumGPUcGeOX0uZE2zYvm0dnWxN2b37y42bFiEQvnXd7xdnn3XlJDGBwa5tArp0dd4BzgxeOvj7S5Yu5sNrY1ceu1K+gsh3hnWxPNi+bXsfLGZbhLmjGZyZGTZy46C+85MsCB/jfv3pwVsL75Sq5ftYQP37h65ALnmmULmTWrWOPi08lwlzQtTp45f1GAXxgjP3nmzamGbYsX0NnWxPs6muksz1DZ0LqIBXNn17HyYjDcJU3JucFhfth/6qL54j1HBjj82pmRNk3z57CxrYmff9c7SuPi5Ts4K+/eVG0Z7pKqMjxcunvzQoBfmDd+sP80g+W5hnNnl+7e/Jn1V40Mp3S2LeYdSxYUbqphozPcJf2E46fPlYdSTtJz9M3PUzl97s0PvFq9rHT35oULnJfS3ZuXA8NduoydOT/E80dPXTRffN+RAfoH3rx7c+nCuXSuaCpf3FxcHhtfdEnfvXk5MNyly8DQcPLCK6cv+ljaniMDHHrlzbs358+ZRceKRby/o6V0+315WKWId29eDgx3qYD6Tp7h8Z5+/unQ8fJCEQOcOV+aanjh7s3OygucbU2sW34ls51qWBiGu1QAw8PJ93pPsHtfH4/19PH9l08CsPzKeVy7cjG/fNPakQucG1q9e/Ny4BGWLlGvvXGeJ/b3s7unj3/o6eeV0+eYFXBD+zJ+6192srWzlWtXNjmkcpky3KVLRGbyfN8pHtvXx2P7+nj6hVcZGk6WLpzLlo0tbOtq5f0dLSy70rnjMtylhvbGuSG+c/AYj+3rY/e+/pFl3a5duZhf33I1WztbuaF9mWPl+gmGu9RgXjr+Oo/3lM7O/+8PX+Hs4DBXzJ3NzRua+dTWDWztamHlkivqXaYanOEu1dn5oWGefuHV0sXQfX0833cKgLXLF3L35na2dbWyef1Vft6KJsRwl+rg2KmzPN5Tuhj6xP5+Bs4MMnd2sHn9Vfybn1nD1q5Wrm6+0ouhmjTDXZoBw8PJc4dPli6G9vTxbO8JMqGlaT63XdfGtq5Wbt7Q7F2fqhnDXZomA2fO863nSxdDH9/fT//AWSLgXauX8plbN7Ktq5VNKxf7GeWaFoa7VCOZycFjp0fGzp86dJzzQ0nTgjm8f2ML2zpb2dLZ4spBmhGGuzQFZ84P8Y8/Oj4S6BeWhdu4YhH/4efWs62zlRvXLrtsFmVW4zDcpQn68WtvjMw7//aBY7xxfoj5c2Zx84ZmPvH+q9na2cLqZQvrXaYuc4a7NI7BoWGeeenEyJ2h+44MALBq6RV8+MbVbOtq5b3XLHeqohqK4S6N4dXT5/iH/f08tq+PJ57v58Tr55k9K+heu4z7b+tiW1crG1oXOVVRDauqcI+I7cAfAbOBP8vM3x/1/JeAreXNhUBrZi6tZaHSdMpM9v74JI/3lAL9uy++ynCWPlXxA10r2NrVwvs6WlhyhVMVdWkYN9wjYjbwIPBBoBd4KiJ2ZubeC20y8zMV7T8N3DANtUo1dfrsIN8+cIzdPaXx8yMnSws6X79qCfdt62BbVyvvXLXEqYq6JFVz5r4ZOJCZBwEi4mHgTmDvW7S/G/id2pQn1dahY6dLF0N7+vjHg8c5NzTMovlzeF9HM1u7Wrmls4XWpgX1LlOasmrCfRXwUsV2L3DTWA0jYi2wHnhs6qVJU3ducJh/+tHx8tl5HwePnQbgmpYr+Xc/u5atna10r7vKRZ1VONWE+1h/k+ZbtL0LeCQzh8Z6MiLuBe4FaG9vr6pAaaL6Tp5hd/lTFb/1/DFOnxti3pxZvOfq5fzqe9eyrWsF7cudqqhiqybce4E1FdurgcNv0fYu4FNv9UKZuQPYAdDd3f1W/4OQJmSoYom53RVLzK1csoA7b1jFts5WfnbDcpeW02Wlmnf7U0BHRKwHXqYU4B8d3SgiOoFlwHdqWqE0htdeP88Tz/ezu/y5LcfLS8zduLa0xNy2rla62lxiTpevccM9Mwcj4j7gUUpTIR/KzOci4gFgT2buLDe9G3g4Mz0jV81lJvuPnirfGdrH0y+WlphbVl5ibmtXK1s2trB0oUvMSVDlPPfM3AXsGrXvC6O2v1i7sqS3XmJu08rFfHLLNWztauWn1yx1iTlpDA5CqqG8dPz1kYuh3ykvMbdwXmmJufu2bWBrZyttS5yqKI3HcFddnR8aZs+hV0emKl5YYm7d8oV89KY3l5ibP8fPbZEmwnDXjBtZYq78uS0Xlpi7af1y7trcztbOFq5uWVTvMqVLmuGuaTc8nHz/8GsjF0Offfk1MqG1aT63X7eSrV2t/FxHM4vm+3aUasXfJk2LgTPn+ebzx8pzz/s5dqq0xNxPr1nKZ2/dyNauVn7qHYudqihNE8NdNXP4xBt8+YmDI0vMDQ4nixfMYUtnK1s7W9iysYXlLjEnzQjDXTXztT29AHSuaOLj77uabV2tvLt9qUvMSXVguGvKIoLf/YXrCGBrVyurll5R75Kky57hrpr4t+9ZW+8SJFXw72VJKiDDXZIKyHCXpAIy3CWpgAx3SSogw12SCshwl6QCMtwlqYAMd0kqIMNdkgrIcJekAjLcJamADHdJKiDDXZIKyHCXpAIy3CWpgAx3SSogw12SCqiqcI+I7RHRExEHIuJzb9HmIxGxNyKei4i/rG2ZkqSJGHcN1YiYDTwIfBDoBZ6KiJ2ZubeiTQdwP3BzZr4aEa3TVbAkaXzVnLlvBg5k5sHMPAc8DNw5qs0ngAcz81WAzOyrbZmSpImoJtxXAS9VbPeW91XaCGyMiG9HxJMRsb1WBUqSJm7cYRkgxtiXY7xOB3ALsBr4ZkRcl5knLnqhiHuBewHa29snXKwkqTrVnLn3AmsqtlcDh8do8zeZeT4zfwT0UAr7i2TmjszszszulpaWydYsSRpHNeH+FNAREesjYh5wF7BzVJv/BWwFiIhmSsM0B2tZqCSpeuOGe2YOAvcBjwI/AL6Wmc9FxAMRcUe52aPAKxGxF9gN/FZmvjJdRUuS3l41Y+5k5i5g16h9X6h4nMBny1+SpDrzDlVJKiDDXZIKyHCXpAIy3CWpgAx3SSogw12SCshwl6QCMtwlqYAMd0kqIMNdkgrIcJekAjLcJamADHdJKiDDXZIKyHCXpAIy3CWpgAx3SSogw12SCshwl6QCMtwlqYAMd0kqIMNdkgrIcJekAjLcJamADHdJKiDDXZIKqKpwj4jtEdETEQci4nNjPH9PRPRHxDPlr4/XvlRJUrXmjNcgImYDDwIfBHqBpyJiZ2buHdX0rzPzvmmoUZI0QdWcuW8GDmTmwcw8BzwM3Dm9ZUmSpqKacF8FvFSx3VveN9qHIuLZiHgkItbUpDpJ0qRUE+4xxr4ctf23wLrMfCfw98BXx3yhiHsjYk9E7Onv759YpZKkqlUT7r1A5Zn4auBwZYPMfCUzz5Y3vwzcONYLZeaOzOzOzO6WlpbJ1CtJqkI14f4U0BER6yNiHnAXsLOyQUSsrNi8A/hB7UqUJE3UuLNlMnMwIu4DHgVmAw9l5nMR8QCwJzN3Ar8REXcAg8Bx4J5prFmSNI5xwx0gM3cBu0bt+0LF4/uB+2tbmiRpsrxDVZIKyHCXpAIy3CWpgAx3SSogw12SCshwl6QCMtwlqYAMd0kqIMNdkgrIcJekAjLcJamADHdJKiDDXZIKyHCXpAIy3CWpgAx3SZoh82fP5vbr22i/auG0/6yqFuuQJE3dkoVz+eNfHnOJ6ZrzzF2SCshwl6QCMtwlqYAMd0kqIMNdkgrIcJekAjLcJamADHdJKqDIzPr84Ih+4IVJfnszcKyG5dSTfWk8RekH2JdGNZW+rM3MlvEa1S3cpyIi9mRmd73rqAX70niK0g+wL41qJvrisIwkFZDhLkkFdKmG+456F1BD9qXxFKUfYF8a1bT35ZIcc5ckvb1L9cxdkvQ2GjrcI2J7RPRExIGI+NwYz382IvZGxLMR8Y2IWFuPOqtRRV9+PSL+OSKeiYhvRcSmetQ5nvH6UdHuwxGREdGwsxuqOCb3RER/+Zg8ExEfr0ed1ajmuETER8q/L89FxF/OdI3VquK4fKnimOyPiBP1qHM8VfSjPSJ2R8R3yxl2e00LyMyG/AJmAz8ErgbmAd8DNo1qsxVYWH78SeCv6133FPqyuOLxHcD/rnfdk+lHuV0T8ATwJNBd77qncEzuAf5nvWutUV86gO8Cy8rbrfWueyrvsYr2nwYeqnfdkzwmO4BPlh9vAg7VsoZGPnPfDBzIzIOZeQ54GLizskFm7s7M18ubTwKrZ7jGalXTl5MVm1cCjXgxZNx+lP0u8AfAmZksboKq7culoJq+fAJ4MDNfBcjMvhmusVoTPS53A381I5VNTDX9SGBx+fES4HAtC2jkcF8FvFSx3Vve91Y+BvzdtFY0eVX1JSI+FRE/pBSMvzFDtU3EuP2IiBuANZn59ZksbBKqfX99qPwn8yMRsWZmSpuwavqyEdgYEd+OiCcjYvuMVTcxVf/el4dh1wOPzUBdE1VNP74I/EpE9AK7KP0VUjONHO4xxr4xz2Yj4leAbuC/TGtFk1dVXzLzwcy8BvhPwG9Pe1UT97b9iIhZwJeA35yxiiavmmPyt8C6zHwn8PfAV6e9qsmppi9zKA3N3ELpbPfPImLpNNc1GVX/3gN3AY9k5tA01jNZ1fTjbuArmbkauB34i/LvUE00crj3ApVnSqsZ48+WiLgV+DxwR2aenaHaJqqqvlR4GPiFaa1ocsbrRxNwHfB4RBwC3gPsbNCLquMek8x8peI99WVgZlY2nrhq3l+9wN9k5vnM/BHQQynsG81EflfuojGHZKC6fnwM+BpAZn4HWEDpM2dqo94XHt7mgsQc4CClP7suXJD4qVFtbqB00aKj3vXWoC8dFY//FbCn3nVPph+j2j9O415QreaYrKx4/IvAk/Wuewp92Q58tfy4mdKQwfJ61z7Z9xjQCRyifK9Oo31VeUz+Drin/PhaSuFfs/7U/R9hnH+g24H95QD/fHnfA5TO0qH0p/JR4Jny18561zyFvvwR8Fy5H7vfLjQbuR+j2jZsuFd5TH6vfEy+Vz4mXfWueQp9CeC/AXuBfwbuqnfNU3mPURqv/v161zrFY7IJ+Hb5/fUM8C9q+fO9Q1WSCqiRx9wlSZNkuEtSARnuklRAhrskFZDhLkkFZLhLUgEZ7pJUQIa7JBXQ/wehjvHCroUF4AAAAABJRU5ErkJggg==\n",
      "text/plain": [
       "<Figure size 432x288 with 1 Axes>"
      ]
     },
     "metadata": {
      "needs_background": "light"
     },
     "output_type": "display_data"
    },
    {
     "name": "stdout",
     "output_type": "stream",
     "text": [
      "([0.0, 0.2, 0.2, 0.2, 0.2, 0.2, 0.2, 0.2, 0.2], [0.0, 0.5, 0.3333333333333333, 0.25, 0.2, 0.16666666666666666, 0.14285714285714285, 0.125, 0.1111111111111111])\n"
     ]
    },
    {
     "data": {
      "image/png": "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\n",
      "text/plain": [
       "<Figure size 432x288 with 1 Axes>"
      ]
     },
     "metadata": {
      "needs_background": "light"
     },
     "output_type": "display_data"
    },
    {
     "name": "stdout",
     "output_type": "stream",
     "text": [
      "([0.0, 0.2, 0.2, 0.2, 0.2, 0.2, 0.2, 0.2, 0.2], [0.0, 0.5, 0.3333333333333333, 0.25, 0.2, 0.16666666666666666, 0.14285714285714285, 0.125, 0.1111111111111111])\n"
     ]
    },
    {
     "data": {
      "image/png": "iVBORw0KGgoAAAANSUhEUgAAAXcAAAD8CAYAAACMwORRAAAABHNCSVQICAgIfAhkiAAAAAlwSFlzAAALEgAACxIB0t1+/AAAADl0RVh0U29mdHdhcmUAbWF0cGxvdGxpYiB2ZXJzaW9uIDIuMi4zLCBodHRwOi8vbWF0cGxvdGxpYi5vcmcvIxREBQAAIABJREFUeJzt3Xd4VGXexvHvQyD0DqElIaETkkgJ1YaKig1EcGWxN9Rd3913fVeIAorYQN113RXXxe6unQBGBLGiawdU0kgghJKETqjpyTzvHxnc2RjIBCYzmZn7c125mJlz5szNmeHOYcpvjLUWEREJLI18HUBERDxP5S4iEoBU7iIiAUjlLiISgFTuIiIBSOUuIhKAVO4iIgFI5S4iEoBU7iIiAaixr264U6dONioqylc3LyLil9atW7fPWtu5tvV8Vu5RUVGsXbvWVzcvIuKXjDHb3FlPT8uIiAQglbuISABSuYuIBCCVu4hIAFK5i4gEILfK3Rgz3hiTZYzJNsYk1rD8BmPMXmPMT86fWzwfVURE3FXrWyGNMSHAQuB8IA9YY4xJttZmVFv1LWvtnfWQUURE6sidI/cRQLa1NsdaWwa8CUys31giIoGnqKyCt9fmcrikvN5vy50PMfUAcl3O5wEja1hvsjHmLGAj8AdrbW71FYwx04HpAJGRkXVPKyLip77O3kfiklS2FxThcFimjqjfDnTnyN3UcFn1b9V+D4iy1sYDHwOv1LQha+0ia22CtTahc+daPz0rIuL3DhWXk5iUwrTnv6O0ohKACkf1CvU8d8o9D4hwOR8O7HBdwVq731pb6jz7HDDMM/FERPzXRxm7ueDJz3l7bS63nd2LxbeP8dptu/O0zBqgrzEmGsgHpgLTXFcwxnSz1u50np0AbPBoShERP7LvaClzk9NZnrKTAV1b89x1CcSHt2PPkRKvZai13K21FcaYO4FVQAjworU23RgzD1hrrU0GfmeMmQBUAAXADfWYWUSkQbLWsuynfB54L4Oi0kr+7/x+3D62N01CvP+RIremQlprVwArql12n8vpe4B7PBtNRMR/7DhYzKylqXyWtZchke14bHI8fbu09lken438FREJBA6H5bXvt7NgZSaVDst9l8Zw/ZgoQhrV9F4U71G5i4icpC37CpmZlML3Wwo4o08nHr0ijogOLXwdC1C5i4jUWUWlg+e/3MKTH22kaeNGPDYlniuHhWOMb4/WXancRUTqIGPHYWYkrSct/zAXDurCgxNjCWvTzNexfkHlLiLihtKKSp7+NJu/r95MuxZNeObqoVwU27VBHa27UrmLiNRi3bYDzExKIXvPUa4Y2oM5l8TQvmWor2OdkMpdROQ4CksreOLDLF7+eivd2zbn5RuHM7Z/mK9juUXlLiJSg39v2ss9S1LJO1DMdaN7MmP8AFo19Z/K9J+kIiJecKionIdXZPD22jx6dWrJ27eNZkR0B1/HqjOVu4iI0wdpu5jzbhoFhWX8ZmxvfndeX5o1CfF1rJOicheRoLfnSAlzk9NZkbqLmG5teOmG4cT2aOvrWKdE5S4iQctay5If8pm3PIPi8kruvrA/08/q5ZNBX56mcheRoJR3oIh7l6bxxca9DOvZngWT4+kT1srXsTxG5S4iQcXhsPzru20sWJmJBR6YMIhrR/WkkY8HfXmayl1EgsbmvUdJTEphzdYDnNWvM49MiiW8fcMY9OVpKncRCXjllQ4WfZHDU59sonmTEJ648jQmD+3RYEcHeILKXUQCWlr+IWYmpZC+4zAXx3Vl7oRBhLVueIO+PE3lLiIBqaS8kr9+sol/fJFD+xahPHvNUMbHdvN1LK9RuYtIwFm7tYAZSSnk7C3kymHhzL4khrYtmvg6llep3EUkYBwtreDxDzJ59dttdG/bnFdvGsFZ/Tr7OpZPqNxFJCB8vnEv9y5JZcehYq4fHcXdF/anpR8N+vK04P2bi0hAOFhUxrzlGSz5IZ/enVuy+PbRDOvpf4O+PE3lLiJ+a0XqTu57N42DReXceU4f7jy3j98O+vI0lbuI+J09h0u47910PkjfRWyPNrxy0wgGdffvQV+epnIXEb9hreWddXk8tDyDkgoHM8cP4NYzo2kcAIO+PE3lLiJ+IbegiHuXpvLvTfsYEdWB+ZPj6NU5cAZ9eZrKXUQatEqH5dVvtvLYB1k0MvDg5bFcPSIy4AZ9eZrKXUQarOw9R5ixOIUfth9kbP/OPDwpjh7tmvs6ll9QuYtIg1Ne6eAfn2/mr59k06JpCE9edRqXDw7sQV+epnIXkQYlNe8Qdy9eT+auI1wS340HJgyiU6umvo7ld9x6idkYM94Yk2WMyTbGJJ5gvSnGGGuMSfBcRBEJBiXllcxfmcnlz3xFQWEZ/7h2GAunDVWxn6Raj9yNMSHAQuB8IA9YY4xJttZmVFuvNfA74Lv6CCoigeu7nP0kLklly75CrkqI4N5LBtK2eXAN+vI0d56WGQFkW2tzAIwxbwITgYxq6z0IPAb80aMJRSRgHSkpZ8EHmfzr2+1EdGjOa7eM5PQ+nXwdKyC4U+49gFyX83nASNcVjDFDgAhr7XJjjMpdRGr1WeYeZi1NZefhEm4+I5r/u6AfLUL1MqCnuLMna3p52v680JhGwJPADbVuyJjpwHSAyMhI9xKKSEApKCzjweUZLP0xn75hrUi6YwxDI9v7OlbAcafc84AIl/PhwA6X862BWGC1821KXYFkY8wEa+1a1w1ZaxcBiwASEhIsIhI0rLW8n7qT+99N51BxOb87ry+/Pac3TRtr0Fd9cKfc1wB9jTHRQD4wFZh2bKG19hDw85NkxpjVwB+rF7uIBK/dh0uYvSyNjzJ2Ex/eln/dMpKB3dr4OlZAq7XcrbUVxpg7gVVACPCitTbdGDMPWGutTa7vkCLin6y1vLUml4dXbKCswsG9Fw/gptM16Msb3Hr1wlq7AlhR7bL7jrPu2FOPJSL+bvv+IhKXpPD15v2MjO7AgsnxRHVq6etYQUMvTYuIR1U6LC99tYUnPsyicaNGPDIpjqnDIzToy8tU7iLiMRt3Vw36+in3IOcOCOPhSbF0a6tBX76gcheRU1ZW4eDvqzfz9GebaN2sCU9NHcyE07pr0JcPqdxF5JSszz3IjMUpZO0+woTTunP/ZTF01DwYn1O5i8hJKS6r5M8fZfHCl1sIa92M569LYFxMF1/HEieVu4jU2Teb95O4JIVt+4uYNjKSxIsG0KaZBn01JCp3EXHb4ZJyHl2RyRvfb6dnxxa8futIxvTWoK+GSOUuIm75ZMNuZi1NY8+REqaf1Ys/jOtH81CNDmioVO4ickL7j5bywHsZJK/fQf8urXn22mEMjmjn61hSC5W7iNTIWkvy+h088F4GR0rK+cO4ftwxtjehjTU6wB+o3EXkF3YeKmb20jQ+ydzD4Ih2PDYlnn5dWvs6ltSByl1EfuZwWN5Ys51HV2RS4XAw+5KB3Hh6NCEaHeB3VO4iAsDWfYUkLknh25wCxvTuyPwr4ons2MLXseQkqdxFglxFpYMXv9rCnz7cSGhII+ZfEcdVwyM0OsDPqdxFgljmrsPMXJzC+rxDjBvYhYcuj6Vr22a+jiUeoHIXCUKlFZUs/Gwzz3yWTdvmTfjbr4dwaXw3Ha0HEJW7SJD5YfsBZi5OYdOeo0wa0oM5l8bQoWWor2OJh6ncRYJEUVkFf/pwIy9+tYWubZrx0g3DOWdAmK9jST1RuYsEga+y95G4JIXcgmKuGRXJzPEDaK1BXwFN5S4SwA4Vl/Poig28uSaX6E4teWv6KEb26ujrWOIFKneRAPVh+i5mL0tj39FSbju7atBXsyYa9BUsVO4iAWbf0VLmJqezPGUnA7q25vnrE4gP16CvYKNyFwkQ1lqW/ZTPA+9lUFRayR8v6MdtZ/emSYgGfQUjlbtIAMg/WMyspamsztrL0MiqQV99wjToK5ip3EX8mMNhee377cxfsQGHhfsvi+G60VEa9CUqdxF/lbP3KIlJqXy/tYAz+nTi0SviiOigQV9SReUu4mcqKh08/+UWnvxoI00bN+KxKfFcOSxcowPkv6jcRfxIxo7DzEhaT1r+YS4c1IUHJ8YS1kaDvuSXVO4ifqCkvJKnP83m2c83065FE565eigXxXbV0bocl8pdpIFbt62AGYtT2Ly3kMlDw5lz6UDatdCgLzkxlbtIA1VYWsHjq7J45ZutdG/bnFduGsHZ/Tr7Opb4CbfK3RgzHngKCAGet9bOr7b8duC3QCVwFJhurc3wcFaRoPHvTXu5Z0kqeQeKuX50T+4eP4BWTXUsJu6r9dFijAkBFgLnA3nAGmNMcrXyft1a+6xz/QnAn4Hx9ZBXJKAdKirnofczeGddHr06t+Sd20czPKqDr2OJH3LnUGAEkG2tzQEwxrwJTAR+Lndr7WGX9VsC1pMhRYLBB2k7mfNuOgWFZfxmbG9+d15fDfqSk+ZOufcAcl3O5wEjq69kjPktcBcQCpxb04aMMdOB6QCRkZF1zSoSkPYcKeH+d9NZmbaLmG5teOmG4cT2aOvrWOLn3Cn3mt5r9Ysjc2vtQmChMWYaMBu4voZ1FgGLABISEnR0L0HNWkvSD/k8uDyD4vJK7r6wP9PP6qVBX+IR7pR7HhDhcj4c2HGC9d8E/n4qoUQCXd6BIu5dmsYXG/eS0LM98yfH0yesla9jSQBxp9zXAH2NMdFAPjAVmOa6gjGmr7V2k/PsJcAmROQXHA7LP7/dxoIPMgF4YMIgrh3Vk0Ya9CUeVmu5W2srjDF3Aquoeivki9badGPMPGCttTYZuNMYMw4oBw5Qw1MyIsEue89REpNSWLvtAGf168wjk2IJb69BX1I/3HrjrLV2BbCi2mX3uZz+vYdziQSM8koHi77I4amPN9E8NIQnrjyNyUN7aHSA1Ct9KkKkHqXlH2LG4hQydh7m4riuzJ0wiLDWGvQl9U/lLlIPSsoreeqTTSz6IocOLUN59pqhjI/t5utYEkRU7iIetmZrATMXp5Czr5Arh4Uz+5IY2rZo4utYEmRU7iIecrS0gsc+yOTVb7YR3r45/7x5BGf21aAv8Q2Vu4gHrM7aw6ylaew4VMwNY6K4+8L+tNSgL/EhPfpETsGBwjIefD+DJT/k07tzSxbfPpphPTXoS3xP5S5yEqy1rEzbxX3vpnGwqJz/ObcPd57bh6aNNehLGgaVu0gd7Tlcwpx301iVvpu4Hm159aaRxHRv4+tYIv9F5S7iJmst76zL46HlGZRWOEi8aAC3nBFNYw36kgZI5S7ihtyCIu5ZksqX2fsYEdWB+ZPj6NVZg76k4VK5i5xApcPyytdbeXxVFo0MPHh5LFePiNSgL2nwVO4ix7Fp9xFmJqXww/aDjO3fmYcnxdGjXXNfxxJxi8pdpJrySgfPrt7M3z7NpmXTEP5y1WAmDu6uQV/iV1TuIi5S8w5x9+L1ZO46wqXx3Zg7YRCdWjX1dSyROlO5i1A16OvJjzfy3Bc5dGrVlEXXDuOCQV19HUvkpKncJeh9m7Ofe5aksmVfIVOHR3DPxQNp21yDvsS/qdwlaB0pKWf+ykxe+247ER2a89otIzm9TydfxxLxCJW7BKXPMvdw79JUdh8u4ZYzornrgn60CNU/BwkcejRLUCkoLGPee+ks+2kHfcNa8cwdYxgS2d7XsUQ8TuUuQcFay/KUncxNTudQcTm/P68vvzmntwZ9ScBSuUvA2324hFlL0/h4w27iw9vy2q0jGdBVg74ksKncJWBZa3lrTS4Pr9hAWYWDWRcP5MbTozToS4KCyl0C0rb9hSQmpfJNzn5GRndgweR4ojq19HUsEa9RuUtAqXRYXvpqC098mEWTRo14ZFIcU4dHaNCXBB2VuwSMrF1HmJGUwvrcg5w3IIyHJsXSra0GfUlwUrmL3yurcPDM6mwWfpZN62ZNeGrqYCacpkFfEtxU7uLXfso9yMzFKWTtPsLEwd2579IYOmrQl4jKXfxTcVklf/4oixe+3EJY62Y8f10C42K6+DqWSIOhche/8/XmfSQmpbK9oIhpIyNJvGgAbZpp0JeIK5W7+I3DJeU8uiKTN77fTs+OLXjj1lGM7t3R17FEGiS3yt0YMx54CggBnrfWzq+2/C7gFqAC2AvcZK3d5uGsEsQ+ztjNrGWp7D1SyvSzevGHcf1oHqrRASLHU2u5G2NCgIXA+UAesMYYk2ytzXBZ7UcgwVpbZIy5A3gMuKo+Aktw2X+0lAfeyyB5/Q4GdG3NomsTOC2ina9jiTR47hy5jwCyrbU5AMaYN4GJwM/lbq39zGX9b4FrPBlSgo+1luT1O5ibnM7R0gr+MK4fd4ztTWhjjQ4QcYc75d4DyHU5nweMPMH6NwMrTyWUBLcdB4uZvSyNTzP3MDiiHY9Niadfl9a+jiXiV9wp95o+CWJrXNGYa4AE4OzjLJ8OTAeIjIx0M6IEC4fD8saa7Ty6IpMKh4PZlwzkxtOjCdHoAJE6c6fc84AIl/PhwI7qKxljxgGzgLOttaU1bchauwhYBJCQkFDjLwgJTlv2FZKYlMJ3WwoY07sj86+IJ7JjC1/HEvFb7pT7GqCvMSYayAemAtNcVzDGDAH+AYy31u7xeEoJWBWVDl78agt/+nAjoY0bsWByHL9KiNDoAJFTVGu5W2srjDF3Aquoeivki9badGPMPGCttTYZeBxoBbzj/Ee53Vo7oR5zSwDYsPMwM5NSSMk7xPkxXXjo8li6tGnm61giAcGt97lba1cAK6pddp/L6XEeziUBrLSikoWfZvPM6s20bd6Ep6cN4ZK4bjpaF/EgfUJVvOqH7QeYuTiFTXuOMmlID+67NIb2LUN9HUsk4KjcxSuKyip4YtVGXvp6C93aNOOlG4ZzzoAwX8cSCVgqd6l3X2XvI3FJCrkFxVw7qiczxventQZ9idQrlbvUm0PF5Tzy/gbeWptLdKeWvDV9FCN7adCXiDeo3KVerErfxZxlaewvLOP2s3vzv+P60qyJBn2JeIvKXTxq75FS5ian837qTgZ2a8ML1w8nLrytr2OJBB2Vu3iEtZalP+Yzb3kGRaWV/PGCftx2dm+ahGjQl4gvqNzllOUfLGbW0lRWZ+1laGTVoK8+YRr0JeJLKnc5aQ6H5bXvtjF/ZSYWmHtZDNeOjtKgL5EGQOUuJyVn71ESk1L5fmsBZ/btxCOT4ojooEFfIg2Fyl3qpKLSwXP/3sKTH2+kWeNGPD4lninDwjU6QKSBUbmL29J3HGJmUgpp+Ye5cFAXHpwYS5gGfYk0SCp3qVVJeSV/+3QTz36eQ/sWofz96qFcFNfN17FE5ARU7nJC67YVMGNxCpv3FjJ5aDhzLh1IuxYa9CXS0KncpUaFpRU8viqLV77ZSve2zXnlphGc3a+zr2OJiJtU7vILX2zcyz1LUtlxqJjrRvXk7vEDaNVUDxURf6J/sfKzg0VlPPT+Bhavy6NX55a8fdtohkd18HUsETkJKncBYGXqTua8m86BojJ+M7Y3vztPg75E/JnKPcjtOVLC/e+mszJtFzHd2vDyjcOJ7aFBXyL+TuUepKy1LF6Xx0Pvb6C4vJIZ4/tz65m9NOhLJECo3INQbkER9y5N5d+b9jE8qj3zJ8fTu3MrX8cSEQ9SuQcRh8Py6jdbeWxVFgaYN3EQ14zsSSMN+hIJOCr3IJG95yiJSSms3XaAs/p15pFJsYS316AvkUClcg9w5ZUOFn2Rw1Mfb6J5aAh/uvI0rhjaQ4O+RAKcyj2ApeUfYsbiFDJ2HubiuK48MCGWzq2b+jqWiHiByj0AlZRX8tQnm1j0RQ4dWoby7DXDGB/b1dexRMSLVO4BZs3WAmYuTiFnXyG/Sghn1sUxtG3RxNexRMTLVO4B4mhpBY99kMmr32wjvH1z/nXzSM7o28nXsUTER1TuAeCzrD3MWpLKzsMl3Hh6FH+8oD8tNehLJKipAfzYgcIyHlyewZIf8+kT1orFt49hWM/2vo4lIg2Ayt0PWWtZkbqL+5PTOFhUzv+c24c7z+1D08Ya9CXSkIWGNGJM74509cLXU7pV7saY8cBTQAjwvLV2frXlZwF/AeKBqdbaxZ4OKlX2HC5h9rI0PszYTVyPtrx600hiurfxdSwRcUO7FqG8fusor9xWreVujAkBFgLnA3nAGmNMsrU2w2W17cANwB/rI6RUHa2/szaPB9/PoKzCwT0XDeDmM6JprEFfIlIDd47cRwDZ1tocAGPMm8BE4Odyt9ZudS5z1EPGoLd9f9Wgry+z9zEiugPzr4ijlwZ9icgJuFPuPYBcl/N5wMiTuTFjzHRgOkBkZOTJbCKoVDosL3+9lSdWZRHSyPDQ5bFMGxGpQV8iUit3yr2mJrEnc2PW2kXAIoCEhIST2kaw2LT7CDOSUvhx+0HG9u/MI5Pi6N6uua9jiYifcKfc84AIl/PhwI76iSNlFQ6e/XwzT3+aTcumIfzlqsFMHNxdg75EpE7cKfc1QF9jTDSQD0wFptVrqiCVkneQGYtTyNx1hMtO6879l8XQqZUGfYlI3dVa7tbaCmPMncAqqt4K+aK1Nt0YMw9Ya61NNsYMB5YC7YHLjDEPWGsH1WvyAFJSXsmTH23kuX/n0Ll1U567LoHzY7r4OpaI+DG33udurV0BrKh22X0up9dQ9XSN1NG3OftJTEph6/4ifj0igsSLBtK2uQZ9icip0SdUfeRISTnzV2by2nfbiezQgtdvGcmYPhr0JSKeoXL3gU8zdzNraRq7D5dwyxnR3HVBP1qE6q4QEc9Ro3hRQWEZ895LZ9lPO+jXpRXPXD2GIZEa9CUinqdy9wJrLe+l7GRucjpHSsr5/Xl9+e05fQhtrNEBIlI/VO71bNehqkFfH2/YzWnhbVkwZSQDumrQl4jUL5V7PbHW8uaaXB55fwPlDgezLh7ITWdEE6LRASLiBSr3erBtfyGJSal8k7OfUb06MP+KeKI6tfR1LBEJIip3D6p0WF76agtPfJhFk0aNeGRSHFOHR2jQl4h4ncrdQ7J2VQ36Wp97kPMGhPHQpFi6tdWgLxHxDZX7KSqrcPDM6mwWfpZN62ZN+Ouvh3BZfDcN+hIRn1K5n4Kfcg8yc3EKWbuPMHFwd+6/bBAdWob6OpaIiMr9ZBSXVfKnD7N48asthLVuxgvXJ3DeQA36EpGGQ+VeR19v3kdiUirbC4qYNjKSxIsG0KaZBn2JSMOicnfT4ZJyHl2xgTe+z6Vnxxa8cesoRvfu6OtYIiI1Urm74eOM3cxalsreI6XcdlYv/ndcP5qHhvg6lojIcancT2D/0VLmvpfBe+t3MKBra567LoH48Ha+jiUiUiuVew2stbz70w4eeC+do6UV3HV+P24/u7cGfYmI31C5V7PjYDGzl6XxaeYeBke047Ep8fTr0trXsURE6kTl7uRwWF7/fjvzV2ZS6bDMuTSGG8ZEadCXiPgllTuwZV8hiUkpfLelgNP7dOTRSfFEdmzh61giIictqMu9otLBC19u4c8fbSS0cSMWTI7jVwkRGh0gIn4vaMt9w87DzExKISXvEOfHdOGhy2Pp0qaZr2OJiHhE0JV7aUUlCz/N5pnVm2nXogkLpw3l4riuOloXkYASVOW+btsBZialkL3nKFcM6cGcS2Nor0FfIhKAgqLci8oqeHxVFi9/vZVubZrx0o3DOad/mK9jiYjUm4Av9y837SNxSQp5B4q5dlRPZozvT2sN+hKRABew5X6ouJyH38/g7bV5RHdqyVvTRzGylwZ9iUhwCMhyX5W+iznL0thfWMYdY3vz+/P60qyJBn2JSPAIqHLfe6SUucnpvJ+6k4Hd2vDC9cOJC2/r61giIl4XEOVurWXJD/nMW55BcVkld1/Yn+ln9aJJiAZ9iUhwcqvcjTHjgaeAEOB5a+38asubAq8Cw4D9wFXW2q2ejVqz/IPF3Lsklc837mVoZNWgrz5hGvQlIsGt1nI3xoQAC4HzgTxgjTEm2Vqb4bLazcABa20fY8xUYAFwVX0EPsbhsPzru20sWJmJBeZeFsO1ozXoS0QE3DtyHwFkW2tzAIwxbwITAddynwjMdZ5eDDxtjDHWWuvBrD/bvPcoiUkprNl6gDP7duKRSXFEdNCgLxGRY9wp9x5Arsv5PGDk8dax1lYYYw4BHYF9ngjp6u01ucx+N41mjRvx+JR4pgwL1+gAEZFq3Cn3mpqz+hG5O+tgjJkOTAeIjIx046Z/KbpzS84bEMYDEwcR1lqDvkREauJOuecBES7nw4Edx1knzxjTGGgLFFTfkLV2EbAIICEh4aSeshke1YHhUR1O5qoiIkHDnfcKrgH6GmOijTGhwFQgudo6ycD1ztNTgE/r6/l2ERGpXa1H7s7n0O8EVlH1VsgXrbXpxph5wFprbTLwAvBPY0w2VUfsU+sztIiInJhb73O31q4AVlS77D6X0yXAlZ6NJiIiJ0sf4RQRCUAqdxGRAKRyFxEJQCp3EZEApHIXEQlAxldvRzfG7AW2neTVO1EPow08QLnqRrnqrqFmU666OZVcPa21nWtbyWflfiqMMWuttQm+zlGdctWNctVdQ82mXHXjjVx6WkZEJACp3EVEApC/lvsiXwc4DuWqG+Wqu4aaTbnqpt5z+eVz7iIicmL+euQuIiIn0CDK3Rgz3hiTZYzJNsYk1rC8qTHmLefy74wxUS7L7nFenmWMudDdbdZnLmPM+caYdcaYVOef57pcZ7Vzmz85f8K8mCvKGFPsctvPulxnmDNvtjHmr+Ykvt7qFHJd7ZLpJ2OMwxgz2LnMG/vrLGPMD8aYCmPMlGrLrjfGbHL+XO9yuTf2V425jDGDjTHfGGPSjTEpxpirXJa9bIzZ4rK/Bnsrl3NZpcttJ7tcHu28zzc5HwOh3spljDmn2uOrxBhzuXOZN/bXXcaYDOd99YkxpqfLsnp7fGGt9ekPVWOENwO9gFBgPRBTbZ3fAM86T08F3nKejnGu3xSIdm4nxJ1t1nOuIUB35+lYIN/lOquBBB/trygg7Tjb/R4YTdW3aq0ELvJWrmrrxAE5Xt5fUUA88CowxeXyDkCO88/2ztPtvbi/jperH9DXebo7sBNo5zz/suu63txfzmVHj7Pdt4GpztPPAnd4M1e1+7RCwrpEAAAEI0lEQVQAaOHF/XWOy+3dwX/+Pdbb48ta2yCO3H/+Am5rbRlw7Au4XU0EXnGeXgyc5/xNNhF401pbaq3dAmQ7t+fONustl7X2R2vtsW+rSgeaGWOa1vH2PZ7reBs0xnQD2lhrv7FVj6xXgct9lOvXwBt1vO1TymWt3WqtTQEc1a57IfCRtbbAWnsA+AgY7639dbxc1tqN1tpNztM7gD1ArR9qqe9cx+O8j8+l6j6HqseA1/ZXNVOAldbaojre/qnk+szl9r6l6tvsoH4fXw2i3Gv6Au4ex1vHWlsBHPsC7uNd151t1mcuV5OBH621pS6XveT8L+Cck/jv1qnmijbG/GiM+dwYc6bL+nm1bLO+cx1zFb8s9/reX3W9rrf2V62MMSOoOmLc7HLxw86nAJ48iYOKU83VzBiz1hjz7bGnPqi6jw867/OT2aYnch0zlV8+vry5v26m6kj8RNf1xOOrQZT7qXwBd10v91auqoXGDAIWALe5LL/aWhsHnOn8udaLuXYCkdbaIcBdwOvGmDZubrM+c1UtNGYkUGStTXNZ7o39Vdfremt/nXgDVUd4/wRutNYeO1q9BxgADKfqv/szvZwr0lZ98nIa8BdjTG8PbNMTuY7trziqvlXuGK/tL2PMNUAC8Hgt1/XE/moQ5V6XL+DG/PcXcB/vuu5ssz5zYYwJB5YC11lrfz6qstbmO/88ArxO1X/rvJLL+fTVfuftr6PqaK+fc/1wl+t7fX85/eKoykv7q67X9db+Oi7nL+X3gdnW2m+PXW6t3WmrlAIv4d39dexpIqy1OVS9XjKEqhkq7Zz3eZ236YlcTr8Cllpry13yemV/GWPGAbOACS7/i6/Px1eDeEG1MVUvJETznxckBlVb57f89wtxbztPD+K/X1DNoeoFjlq3Wc+52jnXn1zDNjs5Tzeh6jnI272YqzMQ4jzdC8gHOjjPrwFG8Z8XcC72Vi7n+UZUPah7eXt/uaz7Mr98QXULVS92tXee9tr+OkGuUOAT4H9rWLeb808D/AWY78Vc7YGmztOdgE04X1wE3uG/X1D9jbdyuVz+LXCOt/cXVb/gNuN8Edwbjy9rre/L3fkXuRjY6NwBs5yXzaPqtxxAM+eDI5uqV5FdC2CW83pZuLyiXNM2vZULmA0UAj+5/IQBLYF1QApVL7Q+hbNsvZRrsvN21wM/AJe5bDMBSHNu82mcH3Dz4v04Fvi22va8tb+GU/WLpRDYD6S7XPcmZ95sqp7+8Ob+qjEXcA1QXu3xNdi57FMg1ZntX0ArL+Ya47zt9c4/b3bZZi/nfZ7tfAw09fL9GEXVwUyjatv0xv76GNjtcl8le+PxpU+oiogEoIbwnLuIiHiYyl1EJACp3EVEApDKXUQkAKncRUQCkMpdRCQAqdxFRAKQyl1EJAD9P1RVVcCyBSO3AAAAAElFTkSuQmCC\n",
      "text/plain": [
       "<Figure size 432x288 with 1 Axes>"
      ]
     },
     "metadata": {
      "needs_background": "light"
     },
     "output_type": "display_data"
    },
    {
     "name": "stdout",
     "output_type": "stream",
     "text": [
      "([0.5, 0.5, 0.5, 0.5, 0.5, 0.5, 0.5, 0.5, 0.5], [1.0, 0.5, 0.3333333333333333, 0.25, 0.2, 0.16666666666666666, 0.14285714285714285, 0.125, 0.1111111111111111])\n"
     ]
    },
    {
     "data": {
      "image/png": "iVBORw0KGgoAAAANSUhEUgAAAXcAAAD8CAYAAACMwORRAAAABHNCSVQICAgIfAhkiAAAAAlwSFlzAAALEgAACxIB0t1+/AAAADl0RVh0U29mdHdhcmUAbWF0cGxvdGxpYiB2ZXJzaW9uIDIuMi4zLCBodHRwOi8vbWF0cGxvdGxpYi5vcmcvIxREBQAADWFJREFUeJzt3X+s3Xddx/HnayuNMoYDe0lgbWlJSrQQwvSmkpDoDBA7EtoYCW5EZQTpP0yiLMYRyZDxH5pgjPPHNAwkkWXyhxasVCQQDFKzu8Am7TIp5ceuJVlh/DASGJW3f5zDON7d9Zx7zzn3rO8+H8nJzvd7Pvfc9yfNnj33e+7ZUlVIknq5bNEDSJJmz7hLUkPGXZIaMu6S1JBxl6SGjLskNWTcJakh4y5JDRl3SWpo26K+8Y4dO2rPnj2L+vaSdFG69957v1ZVS+PWLSzue/bsYWVlZVHfXpIuSkm+PMk6L8tIUkPGXZIaMu6S1JBxl6SGjLskNTQ27knek+ThJJ97gseT5E+SnE5yf5Kfmf2YkqSNmOSV+3uBgxd4/Dpg3/B2BPjz6ceSJE1jbNyr6pPAIxdYchj4mxo4AVyV5NmzGlDaSu/40Ene8aGTix5DmtosPsR0NfDQyPHq8NxX1y5McoTBq3t27949g28tzdaps99e9AjSTMziDdWsc27d/+t2Vd1RVctVtby0NPbTs5KkTZpF3FeBXSPHO4GzM3heSdImzSLuR4HfGP7WzEuAb1XV4y7JSJK2zthr7kk+AFwL7EiyCrwdeApAVf0FcAx4JXAa+A7w+nkNK0mazNi4V9UNYx4v4E0zm0iSNDU/oSpJDRl3SWrIuEtSQ8Zdkhoy7pLUkHGXpIaMuyQ1ZNwlqSHjLkkNGXdJasi4S1JDxl2SGjLuktSQcZekhoy7JDVk3CWpIeMuSQ0Zd0lqyLhLUkPGXZIaMu6S1JBxl6SGjLskNWTcJakh4y5JDRl3SWrIuEtSQ8Zdkhoy7pLUkHGXpIaMuyQ1ZNwlqSHjLkkNGXdJasi4S1JDE8U9ycEkDyY5neSWdR7fneTjST6T5P4kr5z9qJKkSY2Ne5LLgduB64D9wA1J9q9Z9jbg7qq6Brge+LNZDypJmtwkr9wPAKer6kxVPQrcBRxes6aApw/v/wRwdnYjSpI2atsEa64GHho5XgV+bs2aPwD+OclvAVcAL5/JdJKkTZnklXvWOVdrjm8A3ltVO4FXAu9P8rjnTnIkyUqSlXPnzm18WknSRCaJ+yqwa+R4J4+/7PIG4G6Aqvo08GPAjrVPVFV3VNVyVS0vLS1tbmJJ0liTxP0eYF+SvUm2M3jD9OiaNV8BXgaQ5KcZxN2X5pK0IGPjXlXngZuA48ADDH4r5mSS25IcGi67GXhjkvuADwA3VtXaSzeSpC0yyRuqVNUx4Niac7eO3D8FvHS2o0mSNstPqEpSQ8Zdkhoy7pLUkHGXpIaMuyQ1ZNwlqSHjLkkNGXdJasi4S1JDxl2SGjLuktSQcZekhoy7JDVk3CWpIeMuSQ0Zd0lqyLhLUkPGXZIaMu6S1JBxl6SGjLskNWTcJakh4y5JDRl3SWrIuEtSQ8Zdkhoy7pLUkHGXpIaMuyQ1ZNwlqSHjLkkNGXdJasi4S1JDxl2SGjLuktSQcZekhiaKe5KDSR5McjrJLU+w5jVJTiU5meRvZzumJGkjto1bkORy4HbgFcAqcE+So1V1amTNPuCtwEur6htJnjWvgSVJ403yyv0AcLqqzlTVo8BdwOE1a94I3F5V3wCoqodnO6YkaSMmifvVwEMjx6vDc6OeDzw/yaeSnEhycL0nSnIkyUqSlXPnzm1uYknSWJPEPeucqzXH24B9wLXADcBfJ7nqcV9UdUdVLVfV8tLS0kZnlSRNaJK4rwK7Ro53AmfXWfMPVfX9qvoi8CCD2EuSFmCSuN8D7EuyN8l24Hrg6Jo1fw/8IkCSHQwu05yZ5aCSpMmNjXtVnQduAo4DDwB3V9XJJLclOTRcdhz4epJTwMeB362qr89raEnShY39VUiAqjoGHFtz7taR+wW8ZXiTJC2Yn1CVpIaMuyQ1ZNwlqSHjLkkNGXdJasi4S1JDxl2SGjLuktSQcZekhoy7JDVk3CWpIeMuSQ0Zd0lqyLhLUkPGXZIaMu6S1JBxl6SGjLskNWTcJakh4y5JDRl3SWrIuEtSQ8Zdkhoy7pLUkHGXpIaMuyQ1ZNwlqSHjLkkNGXdJasi4S1JDxl2SGjLuktSQcZekhoy7JDVk3CWpoYninuRgkgeTnE5yywXWvTpJJVme3YiSpI0aG/cklwO3A9cB+4EbkuxfZ92VwJuBf5/1kJKkjZnklfsB4HRVnamqR4G7gMPrrHsn8C7guzOcT5K0CZPE/WrgoZHj1eG5xyS5BthVVR+e4WySpE2aJO5Z51w99mByGfBu4OaxT5QcSbKSZOXcuXOTTylJ2pBJ4r4K7Bo53gmcHTm+Engh8IkkXwJeAhxd703VqrqjqparanlpaWnzU0uSLmiSuN8D7EuyN8l24Hrg6A8frKpvVdWOqtpTVXuAE8ChqlqZy8SSpLHGxr2qzgM3AceBB4C7q+pkktuSHJr3gJKkjds2yaKqOgYcW3Pu1idYe+30Y0mSpuEnVCWpIeMuSQ0Zd0lqyLhLUkPGXZIaMu6S1JBxl6SGjLskNWTcJakh4y5JDRl3SWrIuEtSQ8Zdkhoy7pLUkHGXpIaMuyQ1ZNwlqSHjLkkNGXdJasi4S1JDxl2SGjLuktSQcZekhoy7JDVk3CWpIeMuSQ0Zd0lqyLhLUkPGXZIaMu6S1JBxl6SGjLskNWTcJakh4y5JDRl3SWpoorgnOZjkwSSnk9yyzuNvSXIqyf1JPpbkubMfVZI0qbFxT3I5cDtwHbAfuCHJ/jXLPgMsV9WLgA8C75r1oJKkyU3yyv0AcLqqzlTVo8BdwOHRBVX18ar6zvDwBLBztmNKkjZikrhfDTw0crw6PPdE3gD80zRDSZKms22CNVnnXK27MPk1YBn4hSd4/AhwBGD37t0TjihJ2qhJXrmvArtGjncCZ9cuSvJy4PeBQ1X1vfWeqKruqKrlqlpeWlrazLySpAlMEvd7gH1J9ibZDlwPHB1dkOQa4C8ZhP3h2Y8pSdqIsXGvqvPATcBx4AHg7qo6meS2JIeGy/4QeBrwd0k+m+ToEzydJGkLTHLNnao6Bhxbc+7Wkfsvn/FckqQp+AlVSWrIuEtSQ8Zdkhoy7pLUkHGXpIaMuyQ1ZNwlqSHjLkkNGXdJasi4S1JDxl2SGjLuktSQcZekhoy7JDVk3CWpoYn+e+7SpWL/c56+6BGkmTDu0oi3v+oFix5Bmgkvy0hSQ8Zdkhoy7pLUkHGXpIaMuyQ1ZNwlqSHjLkkNGXdJaihVtZhvnJwDvryQbz6dHcDXFj3EFrvU9nyp7Rfc88XkuVW1NG7RwuJ+sUqyUlXLi55jK11qe77U9gvuuSMvy0hSQ8Zdkhoy7ht3x6IHWIBLbc+X2n7BPbfjNXdJashX7pLUkHEfSnIwyYNJTie55QLrXp2kkiwPj5+S5H1J/iPJA0neunVTT2eKPW9Pcudwz/cluXbLhp7SuD0nuTHJuSSfHd5+c+Sx1yX5/PD2uq2dfPOm3PNHknwzyYe3durpbHbPSV6c5NNJTia5P8mvbv30M1JVl/wNuBz4AvA8YDtwH7B/nXVXAp8ETgDLw3OvBe4a3n8q8CVgz6L3NOc9vwm4c3j/WcC9wGWL3tMs9gzcCPzpOl/7TODM8J/PGN5/xqL3NM89Dx97GfAq4MOL3ssW/Tk/H9g3vP8c4KvAVYve02ZuvnIfOACcrqozVfUocBdweJ117wTeBXx35FwBVyTZBvw48Cjw7TnPOwvT7Hk/8DGAqnoY+CZwMfy+8KR7Xs8vAR+tqkeq6hvAR4GDc5pzlqbZM1X1MeC/5zXcnGx6z1X1n1X1+eH9s8DDwNgPDD0ZGfeBq4GHRo5Xh+cek+QaYFdVrf3x9IPA/zD4G/4rwB9V1SNznHVWptnzfcDhJNuS7AV+Ftg1z2FnZOyeh35l+CP5B5P8cF+Tfu2TzTR7vljNZM9JDjB45f+F+Yw5X8Z9IOuce+zXiJJcBrwbuHmddQeA/2XwI9xe4OYkz5vHkDM2zZ7fw+BfmBXgj4F/A87PYcZZu+Cehz7E4LLai4B/Ad63ga99Mppmzxerqfec5NnA+4HXV9UP5jLlnBn3gVX+/yvPncDZkeMrgRcCn0jyJeAlwNHhG4yvBT5SVd8fXqL4FBfHJYpN77mqzlfV71TVi6vqMHAV8Pktmnsa4/ZMVX29qr43PPwrBj+VTPS1T1LT7PliNdWekzwd+EfgbVV1Ys6zzs+iL/o/GW7ANgZvkO3lR2/AvOAC6z/Bj95c/D3gTgavFq4ATgEvWvSe5rznpwJXDO+/Avjkovczqz0Dzx65/8vAieH9ZwJfZPBm6jOG95+56D3Nc88j567l4npDdZo/5+0M3k/67UXvY9rbto38RdBVVZ1PchNwnME77e+pqpNJbgNWquroBb78dgZx/xyDwN9ZVffPfegpTbnnZwHHk/wA+C/g1+c/8fQm3PObkxxicJnpEQa/VUFVPZLkncA9w6e7rS6C91am2TNAkn8Ffgp4WpJV4A1VdXyr97ERU+75NcDPAz+Z5Ifnbqyqz27lHmbBT6hKUkNec5ekhoy7JDVk3CWpIeMuSQ0Zd0lqyLhLUkPGXZIaMu6S1ND/AZbo4ZrLBKEjAAAAAElFTkSuQmCC\n",
      "text/plain": [
       "<Figure size 432x288 with 1 Axes>"
      ]
     },
     "metadata": {
      "needs_background": "light"
     },
     "output_type": "display_data"
    },
    {
     "name": "stdout",
     "output_type": "stream",
     "text": [
      "([0.0, 1.0, 1.0, 1.0, 1.0, 1.0, 1.0, 1.0, 1.0], [0.0, 0.5, 0.3333333333333333, 0.25, 0.2, 0.16666666666666666, 0.14285714285714285, 0.125, 0.1111111111111111])\n"
     ]
    },
    {
     "data": {
      "image/png": "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\n",
      "text/plain": [
       "<Figure size 432x288 with 1 Axes>"
      ]
     },
     "metadata": {
      "needs_background": "light"
     },
     "output_type": "display_data"
    },
    {
     "name": "stdout",
     "output_type": "stream",
     "text": [
      "([0.0, 0.0, 0.2, 0.2, 0.2, 0.2, 0.2, 0.2, 0.2], [0.0, 0.0, 0.3333333333333333, 0.25, 0.2, 0.16666666666666666, 0.14285714285714285, 0.125, 0.1111111111111111])\n"
     ]
    },
    {
     "data": {
      "image/png": "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\n",
      "text/plain": [
       "<Figure size 432x288 with 1 Axes>"
      ]
     },
     "metadata": {
      "needs_background": "light"
     },
     "output_type": "display_data"
    },
    {
     "name": "stdout",
     "output_type": "stream",
     "text": [
      "([0.3333333333333333, 0.3333333333333333, 0.3333333333333333, 0.3333333333333333, 0.3333333333333333, 0.3333333333333333, 0.3333333333333333, 0.3333333333333333, 0.3333333333333333], [1.0, 0.5, 0.3333333333333333, 0.25, 0.2, 0.16666666666666666, 0.14285714285714285, 0.125, 0.1111111111111111])\n"
     ]
    },
    {
     "data": {
      "image/png": "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\n",
      "text/plain": [
       "<Figure size 432x288 with 1 Axes>"
      ]
     },
     "metadata": {
      "needs_background": "light"
     },
     "output_type": "display_data"
    },
    {
     "name": "stdout",
     "output_type": "stream",
     "text": [
      "([1.0, 1.0, 1.0, 1.0, 1.0, 1.0, 1.0, 1.0, 1.0], [1.0, 0.5, 0.3333333333333333, 0.25, 0.2, 0.16666666666666666, 0.14285714285714285, 0.125, 0.1111111111111111])\n"
     ]
    },
    {
     "data": {
      "image/png": "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\n",
      "text/plain": [
       "<Figure size 432x288 with 1 Axes>"
      ]
     },
     "metadata": {
      "needs_background": "light"
     },
     "output_type": "display_data"
    },
    {
     "name": "stdout",
     "output_type": "stream",
     "text": [
      "([0.0, 0.0, 0.0, 0.0, 0.0, 0.0, 0.0, 0.0, 0.0], [0.0, 0.0, 0.0, 0.0, 0.0, 0.0, 0.0, 0.0, 0.0])\n"
     ]
    },
    {
     "data": {
      "image/png": "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\n",
      "text/plain": [
       "<Figure size 432x288 with 1 Axes>"
      ]
     },
     "metadata": {
      "needs_background": "light"
     },
     "output_type": "display_data"
    },
    {
     "name": "stdout",
     "output_type": "stream",
     "text": [
      "([0.0, 0.0, 0.0, 0.0, 0.0, 0.0, 0.0, 0.0, 0.0], [0.0, 0.0, 0.0, 0.0, 0.0, 0.0, 0.0, 0.0, 0.0])\n"
     ]
    },
    {
     "data": {
      "image/png": "iVBORw0KGgoAAAANSUhEUgAAAYYAAAD8CAYAAABzTgP2AAAABHNCSVQICAgIfAhkiAAAAAlwSFlzAAALEgAACxIB0t1+/AAAADl0RVh0U29mdHdhcmUAbWF0cGxvdGxpYiB2ZXJzaW9uIDIuMi4zLCBodHRwOi8vbWF0cGxvdGxpYi5vcmcvIxREBQAADsBJREFUeJzt23GonXd9x/H3x1xMUaFN2kRr0+xWWhjpBoqHFtkGnbVtOtAU7R/p/jBslfwx+8cUwUg3aqt/tN2kIrqNoEIQZusqYkBGia2FMUbtSduhmcZco9JrS42kFLpiS+Z3f9yn2/ldzu29uc+59+TW9wsO53l+v+95zveXA/nc53nOSVUhSdKr3jDtBiRJ5xaDQZLUMBgkSQ2DQZLUMBgkSQ2DQZLUMBgkSQ2DQZLUMBgkSY2ZaTewGhdddFHNzs5Ouw1J2lCOHj3666ratlzdhgyG2dlZhsPhtNuQpA0lyS9WUuelJElSw2CQJDUMBklSw2CQJDUMBklSw2CQJDUMBklSw2CQJDUMBklSw2CQJDUMBklSw2CQJDUMBklSw2CQJDUMBklSw2CQJDUMBklSw2CQJDUMBklSw2CQJDUMBklSw2CQJDUMBklSw2CQJDUmEgxJdic5nmQuyYEx85uTPNDNP5ZkdtH8ziQvJvnEJPqRJK1e72BIsgn4EnAjsAu4JcmuRWW3As9X1eXAfcA9i+bvA/61by+SpP4mccZwFTBXVSer6hXgfmDPopo9wKFu+0Hg2iQBSHITcBI4NoFeJEk9TSIYLgGeHtmf78bG1lTVGeAF4MIkbwY+Cdw5gT4kSRMwiWDImLFaYc2dwH1V9eKyb5LsTzJMMjx16tQq2pQkrcTMBI4xD1w6sr8DeGaJmvkkM8D5wGngauDmJPcCFwC/TfKbqvri4jepqoPAQYDBYLA4eCRJEzKJYHgcuCLJZcAvgb3Any+qOQzsA/4DuBl4pKoK+JNXC5J8GnhxXChIktZP72CoqjNJbgMeAjYBX62qY0nuAoZVdRj4CvC1JHMsnCns7fu+kqS1kYU/3DeWwWBQw+Fw2m1I0oaS5GhVDZar85fPkqSGwSBJahgMkqSGwSBJahgMkqSGwSBJahgMkqSGwSBJahgMkqSGwSBJahgMkqSGwSBJahgMkqSGwSBJahgMkqSGwSBJahgMkqSGwSBJahgMkqSGwSBJahgMkqSGwSBJahgMkqSGwSBJahgMkqSGwSBJahgMkqSGwSBJahgMkqSGwSBJahgMkqTGRIIhye4kx5PMJTkwZn5zkge6+ceSzHbj1yU5muQH3fN7J9GPJGn1egdDkk3Al4AbgV3ALUl2LSq7FXi+qi4H7gPu6cZ/Dby/qv4Q2Ad8rW8/kqR+JnHGcBUwV1Unq+oV4H5gz6KaPcChbvtB4Nokqaonq+qZbvwYcF6SzRPoSZK0SpMIhkuAp0f257uxsTVVdQZ4AbhwUc2HgCer6uUJ9CRJWqWZCRwjY8bqbGqSXMnC5aXrl3yTZD+wH2Dnzp1n36UkaUUmccYwD1w6sr8DeGapmiQzwPnA6W5/B/At4MNV9dOl3qSqDlbVoKoG27Ztm0DbkqRxJhEMjwNXJLksyRuBvcDhRTWHWbi5DHAz8EhVVZILgO8An6qqf59AL5KknnoHQ3fP4DbgIeBHwDeq6liSu5J8oCv7CnBhkjng48CrX2m9Dbgc+NskT3WP7X17kiStXqoW3w449w0GgxoOh9NuQ5I2lCRHq2qwXJ2/fJYkNQwGSVLDYJAkNQwGSVLDYJAkNQwGSVLDYJAkNQwGSVLDYJAkNQwGSVLDYJAkNQwGSVLDYJAkNQwGSVLDYJAkNQwGSVLDYJAkNQwGSVLDYJAkNQwGSVLDYJAkNQwGSVLDYJAkNQwGSVLDYJAkNQwGSVLDYJAkNQwGSVLDYJAkNQwGSVJjIsGQZHeS40nmkhwYM785yQPd/GNJZkfmPtWNH09ywyT6kSStXu9gSLIJ+BJwI7ALuCXJrkVltwLPV9XlwH3APd1rdwF7gSuB3cA/dMeTJE3JJM4YrgLmqupkVb0C3A/sWVSzBzjUbT8IXJsk3fj9VfVyVf0MmOuOJ0makkkEwyXA0yP7893Y2JqqOgO8AFy4wtdKktbRJIIhY8ZqhTUree3CAZL9SYZJhqdOnTrLFiVJKzWJYJgHLh3Z3wE8s1RNkhngfOD0Cl8LQFUdrKpBVQ22bds2gbYlSeNMIhgeB65IclmSN7JwM/nwoprDwL5u+2bgkaqqbnxv962ly4ArgO9PoCdJ0irN9D1AVZ1JchvwELAJ+GpVHUtyFzCsqsPAV4CvJZlj4Uxhb/faY0m+AfwXcAb4aFX9T9+eJEmrl4U/3DeWwWBQw+Fw2m1I0oaS5GhVDZar85fPkqSGwSBJahgMkqSGwSBJahgMkqSGwSBJahgMkqSGwSBJahgMkqSGwSBJahgMkqSGwSBJahgMkqSGwSBJahgMkqSGwSBJahgMkqSGwSBJahgMkqSGwSBJahgMkqSGwSBJahgMkqSGwSBJahgMkqSGwSBJahgMkqSGwSBJahgMkqSGwSBJahgMkqRGr2BIsjXJkSQnuuctS9Tt62pOJNnXjb0pyXeS/DjJsSR39+lFkjQZfc8YDgAPV9UVwMPdfiPJVuAO4GrgKuCOkQD5+6r6feBdwB8lubFnP5KknvoGwx7gULd9CLhpTM0NwJGqOl1VzwNHgN1V9VJVfQ+gql4BngB29OxHktRT32B4a1U9C9A9bx9Tcwnw9Mj+fDf2f5JcALyfhbMOSdIUzSxXkOS7wNvGTN2+wvfImLEaOf4M8HXgC1V18jX62A/sB9i5c+cK31qSdLaWDYaqet9Sc0meS3JxVT2b5GLgV2PK5oFrRvZ3AI+O7B8ETlTV55fp42BXy2AwqNeqlSStXt9LSYeBfd32PuDbY2oeAq5PsqW76Xx9N0aSzwLnA3/dsw9J0oT0DYa7geuSnACu6/ZJMkjyZYCqOg18Bni8e9xVVaeT7GDhctQu4IkkTyX5SM9+JEk9pWrjXZUZDAY1HA6n3YYkbShJjlbVYLk6f/ksSWoYDJKkhsEgSWoYDJKkhsEgSWoYDJKkhsEgSWoYDJKkhsEgSWoYDJKkhsEgSWoYDJKkhsEgSWoYDJKkhsEgSWoYDJKkhsEgSWoYDJKkhsEgSWoYDJKkhsEgSWoYDJKkhsEgSWoYDJKkhsEgSWoYDJKkhsEgSWoYDJKkhsEgSWoYDJKkRq9gSLI1yZEkJ7rnLUvU7etqTiTZN2b+cJIf9ulFkjQZfc8YDgAPV9UVwMPdfiPJVuAO4GrgKuCO0QBJ8kHgxZ59SJImpG8w7AEOdduHgJvG1NwAHKmq01X1PHAE2A2Q5C3Ax4HP9uxDkjQhfYPhrVX1LED3vH1MzSXA0yP7890YwGeAzwEv9exDkjQhM8sVJPku8LYxU7ev8D0yZqySvBO4vKo+lmR2BX3sB/YD7Ny5c4VvLUk6W8sGQ1W9b6m5JM8lubiqnk1yMfCrMWXzwDUj+zuAR4H3AO9O8vOuj+1JHq2qaxijqg4CBwEGg0Et17ckaXX6Xko6DLz6LaN9wLfH1DwEXJ9kS3fT+Xrgoar6x6p6e1XNAn8M/GSpUJAkrZ++wXA3cF2SE8B13T5JBkm+DFBVp1m4l/B497irG5MknYNStfGuygwGgxoOh9NuQ5I2lCRHq2qwXJ2/fJYkNQwGSVLDYJAkNQwGSVLDYJAkNQwGSVLDYJAkNQwGSVLDYJAkNQwGSVLDYJAkNQwGSVLDYJAkNQwGSVLDYJAkNQwGSVLDYJAkNQwGSVLDYJAkNQwGSVLDYJAkNQwGSVLDYJAkNQwGSVLDYJAkNVJV0+7hrCU5Bfxi2n2cpYuAX0+7iXXmmn83uOaN4/eqattyRRsyGDaiJMOqGky7j/Xkmn83uObXHy8lSZIaBoMkqWEwrJ+D025gClzz7wbX/DrjPQZJUsMzBklSw2CYoCRbkxxJcqJ73rJE3b6u5kSSfWPmDyf54dp33F+fNSd5U5LvJPlxkmNJ7l7f7s9Okt1JjieZS3JgzPzmJA90848lmR2Z+1Q3fjzJDevZdx+rXXOS65IcTfKD7vm96937avT5jLv5nUleTPKJ9ep5TVSVjwk9gHuBA932AeCeMTVbgZPd85Zue8vI/AeBfwZ+OO31rPWagTcBf9rVvBH4N+DGaa9piXVuAn4KvKPr9T+BXYtq/gr4p257L/BAt72rq98MXNYdZ9O017TGa34X8PZu+w+AX057PWu53pH5bwL/Anxi2uvp8/CMYbL2AIe67UPATWNqbgCOVNXpqnoeOALsBkjyFuDjwGfXoddJWfWaq+qlqvoeQFW9AjwB7FiHnlfjKmCuqk52vd7PwtpHjf5bPAhcmyTd+P1V9XJV/QyY6453rlv1mqvqyap6phs/BpyXZPO6dL16fT5jktzEwh89x9ap3zVjMEzWW6vqWYDuefuYmkuAp0f257sxgM8AnwNeWssmJ6zvmgFIcgHwfuDhNeqzr2XXMFpTVWeAF4ALV/jac1GfNY/6EPBkVb28Rn1OyqrXm+TNwCeBO9ehzzU3M+0GNpok3wXeNmbq9pUeYsxYJXkncHlVfWzxdctpW6s1jxx/Bvg68IWqOnn2Ha6L11zDMjUree25qM+aFyaTK4F7gOsn2Nda6bPeO4H7qurF7gRiQzMYzlJVvW+puSTPJbm4qp5NcjHwqzFl88A1I/s7gEeB9wDvTvJzFj6X7UkeraprmLI1XPOrDgInqurzE2h3rcwDl47s7wCeWaJmvgu784HTK3ztuajPmkmyA/gW8OGq+unat9tbn/VeDdyc5F7gAuC3SX5TVV9c+7bXwLRvcryeHsDf0d6IvXdMzVbgZyzcfN3SbW9dVDPLxrn53GvNLNxP+SbwhmmvZZl1zrBw/fgy/v/G5JWLaj5Ke2PyG932lbQ3n0+yMW4+91nzBV39h6a9jvVY76KaT7PBbz5PvYHX04OFa6sPAye651f/8xsAXx6p+0sWbkDOAX8x5jgbKRhWvWYW/iIr4EfAU93jI9Ne02us9c+An7DwzZXbu7G7gA902+ex8I2UOeD7wDtGXnt797rjnKPfvJrkmoG/Af575HN9Ctg+7fWs5Wc8cowNHwz+8lmS1PBbSZKkhsEgSWoYDJKkhsEgSWoYDJKkhsEgSWoYDJKkhsEgSWr8L4G+I6VKUcyzAAAAAElFTkSuQmCC\n",
      "text/plain": [
       "<Figure size 432x288 with 1 Axes>"
      ]
     },
     "metadata": {
      "needs_background": "light"
     },
     "output_type": "display_data"
    },
    {
     "name": "stdout",
     "output_type": "stream",
     "text": [
      "([0.0, 0.0, 0.0, 0.0, 0.5, 0.5, 0.5, 0.5, 0.5], [0.0, 0.0, 0.0, 0.0, 0.2, 0.16666666666666666, 0.14285714285714285, 0.125, 0.1111111111111111])\n"
     ]
    },
    {
     "data": {
      "image/png": "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\n",
      "text/plain": [
       "<Figure size 432x288 with 1 Axes>"
      ]
     },
     "metadata": {
      "needs_background": "light"
     },
     "output_type": "display_data"
    },
    {
     "name": "stdout",
     "output_type": "stream",
     "text": [
      "([0.2, 0.4, 0.4, 0.4, 0.4, 0.4, 0.4, 0.6, 0.6], [1.0, 1.0, 0.6666666666666666, 0.5, 0.4, 0.3333333333333333, 0.2857142857142857, 0.375, 0.3333333333333333])\n"
     ]
    },
    {
     "data": {
      "image/png": "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